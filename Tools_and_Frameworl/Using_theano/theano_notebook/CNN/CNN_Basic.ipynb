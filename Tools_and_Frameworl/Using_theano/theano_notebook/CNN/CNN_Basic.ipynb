{
 "metadata": {
  "name": "",
  "signature": "sha256:a0b3ce17babf77853d91480ef31961976d126f5f836e6c45c28e2a7288688a98"
 },
 "nbformat": 3,
 "nbformat_minor": 0,
 "worksheets": [
  {
   "cells": [
    {
     "cell_type": "markdown",
     "metadata": {},
     "source": [
      "#CONVOLUTIONAL NEURAL NETWORK -model1"
     ]
    },
    {
     "cell_type": "code",
     "collapsed": false,
     "input": [
      "import theano\n",
      "from theano import tensor as T\n",
      "from theano.tensor.nnet import conv2d\n",
      "import numpy as np\n",
      "import pylab\n",
      "from PIL import Image"
     ],
     "language": "python",
     "metadata": {},
     "outputs": [],
     "prompt_number": 3
    },
    {
     "cell_type": "code",
     "collapsed": false,
     "input": [
      "rng = np.random.RandomState(23455)\n",
      "input= T.tensor4(name='input')\n"
     ],
     "language": "python",
     "metadata": {},
     "outputs": [],
     "prompt_number": 4
    },
    {
     "cell_type": "code",
     "collapsed": false,
     "input": [
      "w_shp = (2,3,9,9)\n",
      "w_bound = np.sqrt(3*9*9)\n",
      "W = theano.shared(np.asarray(\n",
      "                    rng.uniform(\n",
      "                        low = -1.0 / w_bound,\n",
      "                        high = 1.0 / w_bound,\n",
      "                        size = w_shp),\n",
      "                        dtype = input.dtype), name = 'W')"
     ],
     "language": "python",
     "metadata": {},
     "outputs": [],
     "prompt_number": 5
    },
    {
     "cell_type": "code",
     "collapsed": false,
     "input": [
      "b_shp = (2,)\n",
      "b = theano.shared(np.asarray(\n",
      "                    rng.uniform(low=-0.5, high=0.5,size = b_shp),\n",
      "                    dtype = input.dtype), name = 'b')\n"
     ],
     "language": "python",
     "metadata": {},
     "outputs": [],
     "prompt_number": 6
    },
    {
     "cell_type": "code",
     "collapsed": false,
     "input": [
      "conv_out = conv2d(input, W)\n",
      "output = T.nnet.sigmoid(conv_out + b.dimshuffle('x',0,'x','x'))\n",
      "f = theano.function([input], output)"
     ],
     "language": "python",
     "metadata": {},
     "outputs": [],
     "prompt_number": 7
    },
    {
     "cell_type": "code",
     "collapsed": false,
     "input": [
      "img = Image.open(open('../images/sam2.jpg'))\n",
      "#print np.asarray(img,dtype='float64')\n",
      "img = np.asarray(img,dtype='float64') /256\n",
      "print np.shape(img.transpose(2,0,1).reshape(1,3,450,439))\n",
      "\n",
      "img_ = img.transpose(2,0,1).reshape(1,3,450,439)\n",
      "print np.shape(img_[0])\n",
      "filtered_img = f(img_)\n",
      "print np.shape(filtered_img)"
     ],
     "language": "python",
     "metadata": {},
     "outputs": [
      {
       "output_type": "stream",
       "stream": "stdout",
       "text": [
        "(1, 3, 450, 439)\n",
        "(3, 450, 439)\n",
        "(1, 2, 442, 431)"
       ]
      },
      {
       "output_type": "stream",
       "stream": "stdout",
       "text": [
        "\n"
       ]
      }
     ],
     "prompt_number": 8
    },
    {
     "cell_type": "code",
     "collapsed": false,
     "input": [
      "pylab.subplot(1,3,1);pylab.axis('off');pylab.imshow(img)\n",
      "#pylab.gray();\n",
      "pylab.subplot(1,3,2);pylab.axis('off');pylab.imshow(filtered_img[0,0,:,:])\n",
      "pylab.subplot(1,3,3);pylab.axis('off');pylab.imshow(filtered_img[0,1,:,:])\n",
      "pylab.show()"
     ],
     "language": "python",
     "metadata": {},
     "outputs": []
    },
    {
     "cell_type": "code",
     "collapsed": false,
     "input": [
      "from theano.tensor.signal import pool"
     ],
     "language": "python",
     "metadata": {},
     "outputs": [],
     "prompt_number": 9
    },
    {
     "cell_type": "code",
     "collapsed": false,
     "input": [
      "input1 = T.matrix('input1')\n",
      "maxpool_shape = (2,2)\n",
      "pool_out = pool.pool_2d(input1, maxpool_shape, ignore_border=True,st=(1,1))\n",
      "f = theano.function([input1], pool_out)"
     ],
     "language": "python",
     "metadata": {},
     "outputs": [],
     "prompt_number": 19
    },
    {
     "cell_type": "code",
     "collapsed": false,
     "input": [
      "invals = np.asarray([[5,6,7,8,9],[2,5,2,9,1],[6,7,1,2,9]])\n",
      "print 'With ignore border set to true'\n",
      "print 'invals[0,0,:,:] = \\n', invals\n",
      "print 'outputs[0,0,:,:] = \\n', f(invals)\n",
      "'''\n",
      "pool_out1 = pool.pool_2d(input1,maxpool_shape, ignore_border=False)\n",
      "f = theano.function([input1],pool_out1)'''"
     ],
     "language": "python",
     "metadata": {},
     "outputs": [
      {
       "output_type": "stream",
       "stream": "stdout",
       "text": [
        "With ignore border set to true\n",
        "invals[0,0,:,:] = \n",
        "[[5 6 7 8 9]\n",
        " [2 5 2 9 1]\n",
        " [6 7 1 2 9]]\n",
        "outputs[0,0,:,:] = \n",
        "[[ 6.  7.  9.  9.]\n",
        " [ 7.  7.  9.  9.]]\n"
       ]
      },
      {
       "metadata": {},
       "output_type": "pyout",
       "prompt_number": 20,
       "text": [
        "'\\npool_out1 = pool.pool_2d(input1,maxpool_shape, ignore_border=False)\\nf = theano.function([input1],pool_out1)'"
       ]
      }
     ],
     "prompt_number": 20
    },
    {
     "cell_type": "code",
     "collapsed": false,
     "input": [
      "print 'invals[1,0,:,:] = \\n', invals[1,0,:,:]\n",
      "print 'outputs[1,0,:,:] = \\n', f(invals)[0,0,:,:]"
     ],
     "language": "python",
     "metadata": {},
     "outputs": [
      {
       "output_type": "stream",
       "stream": "stdout",
       "text": [
        "invals[1,0,:,:] = \n",
        "[[ 0.01936696  0.67883553  0.21162812  0.26554666  0.49157316]\n",
        " [ 0.05336255  0.57411761  0.14672857  0.58930554  0.69975836]\n",
        " [ 0.10233443  0.41405599  0.69440016  0.41417927  0.04995346]\n",
        " [ 0.53589641  0.66379465  0.51488911  0.94459476  0.58655504]\n",
        " [ 0.90340192  0.1374747   0.13927635  0.80739129  0.39767684]]\n",
        "outputs[1,0,:,:] = \n",
        "[[ 0.72032449  0.39676747  0.53881673]\n",
        " [ 0.6852195   0.87811744  0.19810149]\n",
        " [ 0.96826158  0.69232262  0.87638915]]\n"
       ]
      }
     ],
     "prompt_number": 12
    },
    {
     "cell_type": "code",
     "collapsed": false,
     "input": [],
     "language": "python",
     "metadata": {},
     "outputs": []
    }
   ],
   "metadata": {}
  }
 ]
}