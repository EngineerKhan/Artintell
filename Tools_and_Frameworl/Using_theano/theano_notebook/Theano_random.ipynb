{
 "metadata": {
  "name": "",
  "signature": "sha256:af5e225aaf38e06df47a398e323ccabfcacc1c361b90ac1c9337bb6652b7253d"
 },
 "nbformat": 3,
 "nbformat_minor": 0,
 "worksheets": [
  {
   "cells": [
    {
     "cell_type": "markdown",
     "metadata": {},
     "source": [
      "#Using Random Numbers"
     ]
    },
    {
     "cell_type": "markdown",
     "metadata": {},
     "source": [
      "The way to think about putting randomness into Theano\u2019s computations is to put random variables in your\n",
      "graph. Theano will allocate a NumPy RandomStream object (a random number generator) for each such\n",
      "variable, and draw from it as necessary. We will call this sort of sequence of random numbers a random\n",
      "stream. Random streams are at their core shared variables, so the observations on shared variables hold here\n",
      "as well. Theanos\u2019s random objects are defined and implemented in RandomStreams and, at a lower level, in\n",
      "RandomStreamsBase."
     ]
    },
    {
     "cell_type": "code",
     "collapsed": false,
     "input": [
      "from theano.tensor.shared_randomstreams import RandomStreams\n",
      "from theano import function\n",
      "from theano import tensor\n",
      "srng = RandomStreams(seed=234)\n",
      "#higher_bound = tensor.iscalar('higher_bound')\n",
      "#lower_bound = tensor.iscalar('lower_bound')\n",
      "rv_u = srng.uniform((2, 2))\n",
      "rv_n = srng.normal((2,2))\n",
      "func = function([],rv_u)\n",
      "func_1 = function([], rv_n, no_default_updates=True)\n",
      "nearly_zeros = function([],rv_u+ rv_u -1 * rv_u)"
     ],
     "language": "python",
     "metadata": {},
     "outputs": [],
     "prompt_number": 15
    },
    {
     "cell_type": "code",
     "collapsed": false,
     "input": [
      "f_val0 = func()\n",
      "f_val1 = func()\n"
     ],
     "language": "python",
     "metadata": {},
     "outputs": [],
     "prompt_number": 16
    },
    {
     "cell_type": "code",
     "collapsed": false,
     "input": [
      "print f_val0\n",
      "print f_val1"
     ],
     "language": "python",
     "metadata": {},
     "outputs": [
      {
       "output_type": "stream",
       "stream": "stdout",
       "text": [
        "[[ 0.12672381  0.97091597]\n",
        " [ 0.13989098  0.88754825]]\n",
        "[[ 0.31971415  0.47584377]\n",
        " [ 0.24129163  0.42046081]]\n"
       ]
      }
     ],
     "prompt_number": 17
    },
    {
     "cell_type": "code",
     "collapsed": false,
     "input": [
      "g_val0 = func_1()\n",
      "g_val1 = func_1()"
     ],
     "language": "python",
     "metadata": {},
     "outputs": [],
     "prompt_number": 18
    },
    {
     "cell_type": "code",
     "collapsed": false,
     "input": [
      "print g_val0\n",
      "print g_val1"
     ],
     "language": "python",
     "metadata": {},
     "outputs": [
      {
       "output_type": "stream",
       "stream": "stdout",
       "text": [
        "[[ 0.37328447 -0.65746672]\n",
        " [-0.36302373 -0.97484625]]\n",
        "[[ 0.37328447 -0.65746672]\n",
        " [-0.36302373 -0.97484625]]\n"
       ]
      }
     ],
     "prompt_number": 19
    },
    {
     "cell_type": "code",
     "collapsed": false,
     "input": [
      "rng_val = rv_u.rng.get_value(borrow=True)\n",
      "rng_val.seed(523)\n",
      "rv_u.rng.set_value(rng_val,borrow=True)"
     ],
     "language": "python",
     "metadata": {},
     "outputs": [],
     "prompt_number": 40
    },
    {
     "cell_type": "markdown",
     "metadata": {},
     "source": [
      "###Sharing Streams between Functions"
     ]
    },
    {
     "cell_type": "code",
     "collapsed": false,
     "input": [
      "state_after_v0 = rv_u.rng.get_value().get_state()"
     ],
     "language": "python",
     "metadata": {},
     "outputs": [],
     "prompt_number": 41
    },
    {
     "cell_type": "code",
     "collapsed": false,
     "input": [
      "nearly_zeros()"
     ],
     "language": "python",
     "metadata": {},
     "outputs": [
      {
       "metadata": {},
       "output_type": "pyout",
       "prompt_number": 42,
       "text": [
        "array([[ 0.03380315,  0.06449588],\n",
        "       [ 0.40330837,  0.89056548]])"
       ]
      }
     ],
     "prompt_number": 42
    },
    {
     "cell_type": "code",
     "collapsed": false,
     "input": [],
     "language": "python",
     "metadata": {},
     "outputs": []
    },
    {
     "cell_type": "code",
     "collapsed": false,
     "input": [],
     "language": "python",
     "metadata": {},
     "outputs": []
    }
   ],
   "metadata": {}
  }
 ]
}