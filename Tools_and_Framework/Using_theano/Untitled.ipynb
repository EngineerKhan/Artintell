{
 "cells": [
  {
   "cell_type": "markdown",
   "metadata": {},
   "source": [
    "## Introduction to Theano"
   ]
  },
  {
   "cell_type": "markdown",
   "metadata": {},
   "source": [
    "#### Symbolic Variables"
   ]
  },
  {
   "cell_type": "code",
   "execution_count": 7,
   "metadata": {
    "collapsed": false
   },
   "outputs": [],
   "source": [
    "import theano.tensor as T\n",
    "import theano\n",
    "from theano import function"
   ]
  },
  {
   "cell_type": "code",
   "execution_count": 8,
   "metadata": {
    "collapsed": true
   },
   "outputs": [],
   "source": [
    "x = T.scalar()\n"
   ]
  },
  {
   "cell_type": "code",
   "execution_count": 17,
   "metadata": {
    "collapsed": false
   },
   "outputs": [
    {
     "data": {
      "text/plain": [
       "<TensorType(float64, scalar)>"
      ]
     },
     "execution_count": 17,
     "metadata": {},
     "output_type": "execute_result"
    }
   ],
   "source": [
    "x\n",
    "#print the type of x"
   ]
  },
  {
   "cell_type": "code",
   "execution_count": 34,
   "metadata": {
    "collapsed": true
   },
   "outputs": [],
   "source": [
    "#Variables can be used in the expression for defining it\n",
    "y = 3*(x-2)*3*4"
   ]
  },
  {
   "cell_type": "code",
   "execution_count": 35,
   "metadata": {
    "collapsed": false
   },
   "outputs": [
    {
     "data": {
      "text/plain": [
       "theano.tensor.var.TensorVariable"
      ]
     },
     "execution_count": 35,
     "metadata": {},
     "output_type": "execute_result"
    }
   ],
   "source": [
    "type(y)#print the type of y"
   ]
  },
  {
   "cell_type": "code",
   "execution_count": 36,
   "metadata": {
    "collapsed": false
   },
   "outputs": [
    {
     "name": "stdout",
     "output_type": "stream",
     "text": [
      "Elemwise{mul,no_inplace}.0\n"
     ]
    }
   ],
   "source": [
    "print y"
   ]
  },
  {
   "cell_type": "code",
   "execution_count": 37,
   "metadata": {
    "collapsed": false
   },
   "outputs": [
    {
     "data": {
      "text/plain": [
       "'(((TensorConstant{3} * (<TensorType(float64, scalar)> - TensorConstant{2})) * TensorConstant{3}) * TensorConstant{4})'"
      ]
     },
     "execution_count": 37,
     "metadata": {},
     "output_type": "execute_result"
    }
   ],
   "source": [
    "theano.pprint(y)"
   ]
  },
  {
   "cell_type": "code",
   "execution_count": 38,
   "metadata": {
    "collapsed": false
   },
   "outputs": [
    {
     "name": "stdout",
     "output_type": "stream",
     "text": [
      "Elemwise{mul,no_inplace} [id A] ''   \n",
      " |Elemwise{mul,no_inplace} [id B] ''   \n",
      " | |Elemwise{mul,no_inplace} [id C] ''   \n",
      " | | |TensorConstant{3} [id D]\n",
      " | | |Elemwise{sub,no_inplace} [id E] ''   \n",
      " | |   |<TensorType(float64, scalar)> [id F]\n",
      " | |   |TensorConstant{2} [id G]\n",
      " | |TensorConstant{3} [id D]\n",
      " |TensorConstant{4} [id H]\n"
     ]
    }
   ],
   "source": [
    "theano.printing.debugprint(y)"
   ]
  },
  {
   "cell_type": "code",
   "execution_count": 39,
   "metadata": {
    "collapsed": false
   },
   "outputs": [
    {
     "data": {
      "image/svg+xml": [
       "<svg height=\"465pt\" viewBox=\"0.00 0.00 708.00 465.00\" width=\"708pt\" xmlns=\"http://www.w3.org/2000/svg\" xmlns:xlink=\"http://www.w3.org/1999/xlink\">\n",
       "<g class=\"graph\" id=\"graph0\" transform=\"scale(1 1) rotate(0) translate(4 461)\">\n",
       "<title>G</title>\n",
       "<polygon fill=\"white\" points=\"-4,4 -4,-461 704,-461 704,4 -4,4\" stroke=\"none\"/>\n",
       "<!-- 140347995135824 -->\n",
       "<g class=\"node\" id=\"node1\"><title>140347995135824</title>\n",
       "<ellipse cx=\"510\" cy=\"-352\" fill=\"#ffaabb\" rx=\"107.781\" ry=\"18\" stroke=\"black\"/>\n",
       "<text font-family=\"Times,serif\" font-size=\"14.00\" text-anchor=\"middle\" x=\"510\" y=\"-348.3\">Elemwise{sub,no_inplace}</text>\n",
       "</g>\n",
       "<!-- 140347995133392 -->\n",
       "<g class=\"node\" id=\"node4\"><title>140347995133392</title>\n",
       "<ellipse cx=\"426\" cy=\"-265\" fill=\"#ffaabb\" rx=\"109.681\" ry=\"18\" stroke=\"black\"/>\n",
       "<text font-family=\"Times,serif\" font-size=\"14.00\" text-anchor=\"middle\" x=\"426\" y=\"-261.3\">Elemwise{mul,no_inplace}</text>\n",
       "</g>\n",
       "<!-- 140347995135824&#45;&gt;140347995133392 -->\n",
       "<g class=\"edge\" id=\"edge4\"><title>140347995135824-&gt;140347995133392</title>\n",
       "<path d=\"M493.404,-334.207C481.06,-321.715 464.025,-304.477 450.169,-290.457\" fill=\"none\" stroke=\"black\"/>\n",
       "<polygon fill=\"black\" points=\"452.367,-287.702 442.849,-283.049 447.388,-292.622 452.367,-287.702\" stroke=\"black\"/>\n",
       "<text font-family=\"Times,serif\" font-size=\"14.00\" text-anchor=\"middle\" x=\"554.5\" y=\"-304.8\">1 TensorType(float64, scalar)</text>\n",
       "</g>\n",
       "<!-- 140347995134032 -->\n",
       "<g class=\"node\" id=\"node2\"><title>140347995134032</title>\n",
       "<polygon fill=\"green\" points=\"496,-457 328,-457 328,-421 496,-421 496,-457\" stroke=\"black\"/>\n",
       "<text font-family=\"Times,serif\" font-size=\"14.00\" text-anchor=\"middle\" x=\"412\" y=\"-435.3\">TensorType(float64, scalar)</text>\n",
       "</g>\n",
       "<!-- 140347995134032&#45;&gt;140347995135824 -->\n",
       "<g class=\"edge\" id=\"edge1\"><title>140347995134032-&gt;140347995135824</title>\n",
       "<path d=\"M431.832,-420.799C446.539,-408.042 466.76,-390.504 482.95,-376.462\" fill=\"none\" stroke=\"black\"/>\n",
       "<polygon fill=\"black\" points=\"485.271,-379.082 490.532,-369.885 480.685,-373.794 485.271,-379.082\" stroke=\"black\"/>\n",
       "<text font-family=\"Times,serif\" font-size=\"14.00\" text-anchor=\"middle\" x=\"469.5\" y=\"-391.8\">0</text>\n",
       "</g>\n",
       "<!-- 140347995135120 -->\n",
       "<g class=\"node\" id=\"node3\"><title>140347995135120</title>\n",
       "<polygon fill=\"green\" points=\"700,-457 514,-457 514,-421 700,-421 700,-457\" stroke=\"black\"/>\n",
       "<text font-family=\"Times,serif\" font-size=\"14.00\" text-anchor=\"middle\" x=\"607\" y=\"-435.3\">val=2 TensorType(int8, scalar)</text>\n",
       "</g>\n",
       "<!-- 140347995135120&#45;&gt;140347995135824 -->\n",
       "<g class=\"edge\" id=\"edge2\"><title>140347995135120-&gt;140347995135824</title>\n",
       "<path d=\"M587.371,-420.799C572.945,-408.158 553.163,-390.823 537.212,-376.846\" fill=\"none\" stroke=\"black\"/>\n",
       "<polygon fill=\"black\" points=\"539.097,-373.844 529.269,-369.885 534.483,-379.108 539.097,-373.844\" stroke=\"black\"/>\n",
       "<text font-family=\"Times,serif\" font-size=\"14.00\" text-anchor=\"middle\" x=\"567.5\" y=\"-391.8\">1</text>\n",
       "</g>\n",
       "<!-- 140347995133008 -->\n",
       "<g class=\"node\" id=\"node6\"><title>140347995133008</title>\n",
       "<ellipse cx=\"333\" cy=\"-178\" fill=\"#ffaabb\" rx=\"128.877\" ry=\"18\" stroke=\"black\"/>\n",
       "<text font-family=\"Times,serif\" font-size=\"14.00\" text-anchor=\"middle\" x=\"333\" y=\"-174.3\">Elemwise{mul,no_inplace} id=2</text>\n",
       "</g>\n",
       "<!-- 140347995133392&#45;&gt;140347995133008 -->\n",
       "<g class=\"edge\" id=\"edge5\"><title>140347995133392-&gt;140347995133008</title>\n",
       "<path d=\"M407.626,-247.207C393.832,-234.599 374.749,-217.158 359.334,-203.068\" fill=\"none\" stroke=\"black\"/>\n",
       "<polygon fill=\"black\" points=\"361.397,-200.212 351.654,-196.049 356.674,-205.379 361.397,-200.212\" stroke=\"black\"/>\n",
       "<text font-family=\"Times,serif\" font-size=\"14.00\" text-anchor=\"middle\" x=\"466.5\" y=\"-217.8\">0 TensorType(float64, scalar)</text>\n",
       "</g>\n",
       "<!-- 140347995135696 -->\n",
       "<g class=\"node\" id=\"node5\"><title>140347995135696</title>\n",
       "<polygon fill=\"green\" points=\"384,-370 198,-370 198,-334 384,-334 384,-370\" stroke=\"black\"/>\n",
       "<text font-family=\"Times,serif\" font-size=\"14.00\" text-anchor=\"middle\" x=\"291\" y=\"-348.3\">val=3 TensorType(int8, scalar)</text>\n",
       "</g>\n",
       "<!-- 140347995135696&#45;&gt;140347995133392 -->\n",
       "<g class=\"edge\" id=\"edge3\"><title>140347995135696-&gt;140347995133392</title>\n",
       "<path d=\"M318.319,-333.799C339.268,-320.609 368.336,-302.307 390.991,-288.043\" fill=\"none\" stroke=\"black\"/>\n",
       "<polygon fill=\"black\" points=\"393.043,-290.887 399.64,-282.597 389.313,-284.963 393.043,-290.887\" stroke=\"black\"/>\n",
       "<text font-family=\"Times,serif\" font-size=\"14.00\" text-anchor=\"middle\" x=\"369.5\" y=\"-304.8\">0</text>\n",
       "</g>\n",
       "<!-- 140347995135696&#45;&gt;140347995133008 -->\n",
       "<g class=\"edge\" id=\"edge6\"><title>140347995135696-&gt;140347995133008</title>\n",
       "<path d=\"M290.592,-333.731C290.528,-312.817 291.81,-276.701 300,-247 304.003,-232.484 311.048,-217.319 317.603,-205.003\" fill=\"none\" stroke=\"black\"/>\n",
       "<polygon fill=\"black\" points=\"320.695,-206.645 322.462,-196.198 314.566,-203.262 320.695,-206.645\" stroke=\"black\"/>\n",
       "<text font-family=\"Times,serif\" font-size=\"14.00\" text-anchor=\"middle\" x=\"303.5\" y=\"-261.3\">1</text>\n",
       "</g>\n",
       "<!-- 140347995134992 -->\n",
       "<g class=\"node\" id=\"node7\"><title>140347995134992</title>\n",
       "<ellipse cx=\"160\" cy=\"-91\" fill=\"#ffaabb\" rx=\"128.877\" ry=\"18\" stroke=\"black\"/>\n",
       "<text font-family=\"Times,serif\" font-size=\"14.00\" text-anchor=\"middle\" x=\"160\" y=\"-87.3\">Elemwise{mul,no_inplace} id=3</text>\n",
       "</g>\n",
       "<!-- 140347995133008&#45;&gt;140347995134992 -->\n",
       "<g class=\"edge\" id=\"edge7\"><title>140347995133008-&gt;140347995134992</title>\n",
       "<path d=\"M299.644,-160.611C272.09,-147.073 232.789,-127.763 202.896,-113.076\" fill=\"none\" stroke=\"black\"/>\n",
       "<polygon fill=\"black\" points=\"204.067,-109.752 193.548,-108.483 200.98,-116.034 204.067,-109.752\" stroke=\"black\"/>\n",
       "<text font-family=\"Times,serif\" font-size=\"14.00\" text-anchor=\"middle\" x=\"337.5\" y=\"-130.8\">0 TensorType(float64, scalar)</text>\n",
       "</g>\n",
       "<!-- 140347995132368 -->\n",
       "<g class=\"node\" id=\"node9\"><title>140347995132368</title>\n",
       "<polygon fill=\"blue\" points=\"244,-36 76,-36 76,-0 244,-0 244,-36\" stroke=\"black\"/>\n",
       "<text font-family=\"Times,serif\" font-size=\"14.00\" text-anchor=\"middle\" x=\"160\" y=\"-14.3\">TensorType(float64, scalar)</text>\n",
       "</g>\n",
       "<!-- 140347995134992&#45;&gt;140347995132368 -->\n",
       "<g class=\"edge\" id=\"edge9\"><title>140347995134992-&gt;140347995132368</title>\n",
       "<path d=\"M160,-72.8129C160,-64.7895 160,-55.0475 160,-46.0691\" fill=\"none\" stroke=\"black\"/>\n",
       "<polygon fill=\"black\" points=\"163.5,-46.0288 160,-36.0288 156.5,-46.0289 163.5,-46.0288\" stroke=\"black\"/>\n",
       "</g>\n",
       "<!-- 140347995135632 -->\n",
       "<g class=\"node\" id=\"node8\"><title>140347995135632</title>\n",
       "<polygon fill=\"green\" points=\"186,-196 1.42109e-14,-196 1.42109e-14,-160 186,-160 186,-196\" stroke=\"black\"/>\n",
       "<text font-family=\"Times,serif\" font-size=\"14.00\" text-anchor=\"middle\" x=\"93\" y=\"-174.3\">val=4 TensorType(int8, scalar)</text>\n",
       "</g>\n",
       "<!-- 140347995135632&#45;&gt;140347995134992 -->\n",
       "<g class=\"edge\" id=\"edge8\"><title>140347995135632-&gt;140347995134992</title>\n",
       "<path d=\"M106.558,-159.799C116.185,-147.587 129.265,-130.992 140.075,-117.278\" fill=\"none\" stroke=\"black\"/>\n",
       "<polygon fill=\"black\" points=\"143.02,-119.196 146.462,-109.175 137.522,-114.862 143.02,-119.196\" stroke=\"black\"/>\n",
       "<text font-family=\"Times,serif\" font-size=\"14.00\" text-anchor=\"middle\" x=\"134.5\" y=\"-130.8\">1</text>\n",
       "</g>\n",
       "</g>\n",
       "</svg>"
      ],
      "text/plain": [
       "<IPython.core.display.SVG object>"
      ]
     },
     "execution_count": 39,
     "metadata": {},
     "output_type": "execute_result"
    }
   ],
   "source": [
    "from IPython.display import SVG\n",
    "SVG(theano.printing.pydotprint(y,return_image=True, format='svg'))"
   ]
  },
  {
   "cell_type": "code",
   "execution_count": 40,
   "metadata": {
    "collapsed": false
   },
   "outputs": [
    {
     "name": "stdout",
     "output_type": "stream",
     "text": [
      "108.0\n"
     ]
    }
   ],
   "source": [
    "#evaluation Expression\n",
    "print y.eval({x:5})"
   ]
  },
  {
   "cell_type": "markdown",
   "metadata": {},
   "source": [
    "### Compiling a function"
   ]
  },
  {
   "cell_type": "code",
   "execution_count": 41,
   "metadata": {
    "collapsed": true
   },
   "outputs": [],
   "source": [
    "f = theano.function([x],y)"
   ]
  },
  {
   "cell_type": "code",
   "execution_count": 42,
   "metadata": {
    "collapsed": false
   },
   "outputs": [
    {
     "data": {
      "text/plain": [
       "array(108.0)"
      ]
     },
     "execution_count": 42,
     "metadata": {},
     "output_type": "execute_result"
    }
   ],
   "source": [
    "f(5)"
   ]
  },
  {
   "cell_type": "code",
   "execution_count": 43,
   "metadata": {
    "collapsed": false
   },
   "outputs": [
    {
     "data": {
      "image/svg+xml": [
       "<svg height=\"204pt\" viewBox=\"0.00 0.00 651.50 204.00\" width=\"652pt\" xmlns=\"http://www.w3.org/2000/svg\" xmlns:xlink=\"http://www.w3.org/1999/xlink\">\n",
       "<g class=\"graph\" id=\"graph0\" transform=\"scale(1 1) rotate(0) translate(4 200)\">\n",
       "<title>G</title>\n",
       "<polygon fill=\"white\" points=\"-4,4 -4,-200 647.5,-200 647.5,4 -4,4\" stroke=\"none\"/>\n",
       "<!-- 140347993443344 -->\n",
       "<g class=\"node\" id=\"node1\"><title>140347993443344</title>\n",
       "<ellipse cx=\"348.5\" cy=\"-91\" fill=\"#ffaabb\" rx=\"153.273\" ry=\"18\" stroke=\"black\"/>\n",
       "<text font-family=\"Times,serif\" font-size=\"14.00\" text-anchor=\"middle\" x=\"348.5\" y=\"-87.3\">Elemwise{Composite{(i0 * (i1 + i2))}}</text>\n",
       "</g>\n",
       "<!-- 140347993443536 -->\n",
       "<g class=\"node\" id=\"node5\"><title>140347993443536</title>\n",
       "<polygon fill=\"blue\" points=\"432.5,-36 264.5,-36 264.5,-0 432.5,-0 432.5,-36\" stroke=\"black\"/>\n",
       "<text font-family=\"Times,serif\" font-size=\"14.00\" text-anchor=\"middle\" x=\"348.5\" y=\"-14.3\">TensorType(float64, scalar)</text>\n",
       "</g>\n",
       "<!-- 140347993443344&#45;&gt;140347993443536 -->\n",
       "<g class=\"edge\" id=\"edge4\"><title>140347993443344-&gt;140347993443536</title>\n",
       "<path d=\"M348.5,-72.8129C348.5,-64.7895 348.5,-55.0475 348.5,-46.0691\" fill=\"none\" stroke=\"black\"/>\n",
       "<polygon fill=\"black\" points=\"352,-46.0288 348.5,-36.0288 345,-46.0289 352,-46.0288\" stroke=\"black\"/>\n",
       "</g>\n",
       "<!-- 140347993883472 -->\n",
       "<g class=\"node\" id=\"node2\"><title>140347993883472</title>\n",
       "<polygon fill=\"green\" points=\"221,-196 1.42109e-14,-196 1.42109e-14,-160 221,-160 221,-196\" stroke=\"black\"/>\n",
       "<text font-family=\"Times,serif\" font-size=\"14.00\" text-anchor=\"middle\" x=\"110.5\" y=\"-174.3\">val=36.0 TensorType(float64, scalar)</text>\n",
       "</g>\n",
       "<!-- 140347993883472&#45;&gt;140347993443344 -->\n",
       "<g class=\"edge\" id=\"edge1\"><title>140347993883472-&gt;140347993443344</title>\n",
       "<path d=\"M158.377,-159.901C197.459,-145.943 252.708,-126.211 293.583,-111.613\" fill=\"none\" stroke=\"black\"/>\n",
       "<polygon fill=\"black\" points=\"294.88,-114.866 303.121,-108.207 292.526,-108.274 294.88,-114.866\" stroke=\"black\"/>\n",
       "<text font-family=\"Times,serif\" font-size=\"14.00\" text-anchor=\"middle\" x=\"248\" y=\"-130.8\">0</text>\n",
       "</g>\n",
       "<!-- 140347993440464 -->\n",
       "<g class=\"node\" id=\"node3\"><title>140347993440464</title>\n",
       "<polygon fill=\"green\" points=\"457.5,-196 239.5,-196 239.5,-160 457.5,-160 457.5,-196\" stroke=\"black\"/>\n",
       "<text font-family=\"Times,serif\" font-size=\"14.00\" text-anchor=\"middle\" x=\"348.5\" y=\"-174.3\">val=-2.0 TensorType(float64, scalar)</text>\n",
       "</g>\n",
       "<!-- 140347993440464&#45;&gt;140347993443344 -->\n",
       "<g class=\"edge\" id=\"edge2\"><title>140347993440464-&gt;140347993443344</title>\n",
       "<path d=\"M348.5,-159.799C348.5,-148.163 348.5,-132.548 348.5,-119.237\" fill=\"none\" stroke=\"black\"/>\n",
       "<polygon fill=\"black\" points=\"352,-119.175 348.5,-109.175 345,-119.175 352,-119.175\" stroke=\"black\"/>\n",
       "<text font-family=\"Times,serif\" font-size=\"14.00\" text-anchor=\"middle\" x=\"352\" y=\"-130.8\">1</text>\n",
       "</g>\n",
       "<!-- 140347993884752 -->\n",
       "<g class=\"node\" id=\"node4\"><title>140347993884752</title>\n",
       "<polygon fill=\"green\" points=\"643.5,-196 475.5,-196 475.5,-160 643.5,-160 643.5,-196\" stroke=\"black\"/>\n",
       "<text font-family=\"Times,serif\" font-size=\"14.00\" text-anchor=\"middle\" x=\"559.5\" y=\"-174.3\">TensorType(float64, scalar)</text>\n",
       "</g>\n",
       "<!-- 140347993884752&#45;&gt;140347993443344 -->\n",
       "<g class=\"edge\" id=\"edge3\"><title>140347993884752-&gt;140347993443344</title>\n",
       "<path d=\"M517.055,-159.901C482.919,-146.15 434.873,-126.795 398.806,-112.265\" fill=\"none\" stroke=\"black\"/>\n",
       "<polygon fill=\"black\" points=\"400.026,-108.984 389.442,-108.493 397.41,-115.477 400.026,-108.984\" stroke=\"black\"/>\n",
       "<text font-family=\"Times,serif\" font-size=\"14.00\" text-anchor=\"middle\" x=\"471\" y=\"-130.8\">2</text>\n",
       "</g>\n",
       "</g>\n",
       "</svg>"
      ],
      "text/plain": [
       "<IPython.core.display.SVG object>"
      ]
     },
     "execution_count": 43,
     "metadata": {},
     "output_type": "execute_result"
    }
   ],
   "source": [
    "SVG(theano.printing.pydotprint(f,return_image=True,format='svg'))"
   ]
  },
  {
   "cell_type": "code",
   "execution_count": 45,
   "metadata": {
    "collapsed": true
   },
   "outputs": [],
   "source": [
    "#other types of tensor variable\n",
    "temp = T.vector()\n",
    "temp = T.matrix()\n",
    "temp = T.tensor3()\n",
    "temp = T.tensor4()"
   ]
  },
  {
   "cell_type": "code",
   "execution_count": 46,
   "metadata": {
    "collapsed": false
   },
   "outputs": [
    {
     "data": {
      "text/plain": [
       "Subtensor{int64:int64:int64}.0"
      ]
     },
     "execution_count": 46,
     "metadata": {},
     "output_type": "execute_result"
    }
   ],
   "source": [
    "#Numyp Stype Indexing\n",
    "x = T.vector()\n",
    "x[1:-1:2]"
   ]
  },
  {
   "cell_type": "code",
   "execution_count": 47,
   "metadata": {
    "collapsed": true
   },
   "outputs": [],
   "source": [
    "#Automation Differention\n",
    "#Gradients are free\n",
    "x = T.scalar()\n",
    "y = T.log(x)"
   ]
  },
  {
   "cell_type": "code",
   "execution_count": 49,
   "metadata": {
    "collapsed": false
   },
   "outputs": [
    {
     "data": {
      "text/plain": [
       "array(0.5)"
      ]
     },
     "execution_count": 49,
     "metadata": {},
     "output_type": "execute_result"
    }
   ],
   "source": [
    "gradient = T.grad(y,x)\n",
    "gradient.eval({x:2})"
   ]
  },
  {
   "cell_type": "markdown",
   "metadata": {},
   "source": [
    "### Shared Variables\n"
   ]
  },
  {
   "cell_type": "code",
   "execution_count": 50,
   "metadata": {
    "collapsed": true
   },
   "outputs": [],
   "source": [
    "#Symbolic+storage"
   ]
  },
  {
   "cell_type": "code",
   "execution_count": 56,
   "metadata": {
    "collapsed": false
   },
   "outputs": [],
   "source": [
    "import numpy as np\n",
    "x = theano.shared(np.zeros((2,3), dtype=theano.config.floatX))"
   ]
  },
  {
   "cell_type": "code",
   "execution_count": 57,
   "metadata": {
    "collapsed": false
   },
   "outputs": [
    {
     "data": {
      "text/plain": [
       "<TensorType(float64, matrix)>"
      ]
     },
     "execution_count": 57,
     "metadata": {},
     "output_type": "execute_result"
    }
   ],
   "source": [
    "x"
   ]
  },
  {
   "cell_type": "code",
   "execution_count": 59,
   "metadata": {
    "collapsed": false
   },
   "outputs": [
    {
     "data": {
      "text/plain": [
       "array([[ 0.,  0.,  0.],\n",
       "       [ 0.,  0.,  0.]])"
      ]
     },
     "execution_count": 59,
     "metadata": {},
     "output_type": "execute_result"
    }
   ],
   "source": [
    "x.get_value()\n"
   ]
  },
  {
   "cell_type": "code",
   "execution_count": 61,
   "metadata": {
    "collapsed": false
   },
   "outputs": [],
   "source": [
    " another_value =np.ones((2,3))"
   ]
  },
  {
   "cell_type": "code",
   "execution_count": 63,
   "metadata": {
    "collapsed": true
   },
   "outputs": [],
   "source": [
    "x.set_value(another_value)"
   ]
  },
  {
   "cell_type": "code",
   "execution_count": 64,
   "metadata": {
    "collapsed": false
   },
   "outputs": [
    {
     "data": {
      "text/plain": [
       "array([[ 1.,  1.,  1.],\n",
       "       [ 1.,  1.,  1.]])"
      ]
     },
     "execution_count": 64,
     "metadata": {},
     "output_type": "execute_result"
    }
   ],
   "source": [
    "x.get_value()"
   ]
  },
  {
   "cell_type": "markdown",
   "metadata": {},
   "source": [
    "### Shared Variables can be used in expressions as well"
   ]
  },
  {
   "cell_type": "code",
   "execution_count": 65,
   "metadata": {
    "collapsed": false
   },
   "outputs": [
    {
     "data": {
      "text/plain": [
       "Elemwise{pow,no_inplace}.0"
      ]
     },
     "execution_count": 65,
     "metadata": {},
     "output_type": "execute_result"
    }
   ],
   "source": [
    "(x+2) **2\n"
   ]
  },
  {
   "cell_type": "code",
   "execution_count": 66,
   "metadata": {
    "collapsed": true
   },
   "outputs": [],
   "source": [
    "#Their value is used as input when evaluating"
   ]
  },
  {
   "cell_type": "code",
   "execution_count": 67,
   "metadata": {
    "collapsed": false
   },
   "outputs": [
    {
     "data": {
      "text/plain": [
       "array([[ 9.,  9.,  9.],\n",
       "       [ 9.,  9.,  9.]])"
      ]
     },
     "execution_count": 67,
     "metadata": {},
     "output_type": "execute_result"
    }
   ],
   "source": [
    "((x+2)**2).eval()"
   ]
  },
  {
   "cell_type": "code",
   "execution_count": 70,
   "metadata": {
    "collapsed": false
   },
   "outputs": [
    {
     "data": {
      "text/plain": [
       "array([[ 9.,  9.,  9.],\n",
       "       [ 9.,  9.,  9.]])"
      ]
     },
     "execution_count": 70,
     "metadata": {},
     "output_type": "execute_result"
    }
   ],
   "source": [
    "theano.function([],(x+2)**2)()\n"
   ]
  },
  {
   "cell_type": "markdown",
   "metadata": {},
   "source": [
    "### Updates"
   ]
  },
  {
   "cell_type": "markdown",
   "metadata": {},
   "source": [
    "Store results of function evaluation\n",
    "dict mapping shared variables to new values"
   ]
  },
  {
   "cell_type": "code",
   "execution_count": 71,
   "metadata": {
    "collapsed": true
   },
   "outputs": [],
   "source": [
    "count = theano.shared(0)\n",
    "new_count = count + 1"
   ]
  },
  {
   "cell_type": "code",
   "execution_count": 72,
   "metadata": {
    "collapsed": true
   },
   "outputs": [],
   "source": [
    "updates = {count:new_count}"
   ]
  },
  {
   "cell_type": "code",
   "execution_count": 73,
   "metadata": {
    "collapsed": true
   },
   "outputs": [],
   "source": [
    "f = theano.function([],count,updates = updates)"
   ]
  },
  {
   "cell_type": "code",
   "execution_count": 79,
   "metadata": {
    "collapsed": false
   },
   "outputs": [
    {
     "data": {
      "text/plain": [
       "array(5)"
      ]
     },
     "execution_count": 79,
     "metadata": {},
     "output_type": "execute_result"
    }
   ],
   "source": [
    "f()"
   ]
  },
  {
   "cell_type": "markdown",
   "metadata": {},
   "source": [
    "Make some exercises in logistics, fibonocci, and game of life"
   ]
  },
  {
   "cell_type": "markdown",
   "metadata": {},
   "source": [
    "## Lasangne"
   ]
  },
  {
   "cell_type": "markdown",
   "metadata": {},
   "source": [
    "Lasagne is a lightweight library to build and train neural networks in theano\n",
    "\n",
    "1. Bookkeeping device\n",
    "2. collection of helper functions"
   ]
  },
  {
   "cell_type": "markdown",
   "metadata": {},
   "source": [
    "Design Goals\n",
    "1. Simplicity, Transparency and Modularity\n",
    "2. Abstract Theano as little as possible"
   ]
  },
  {
   "cell_type": "markdown",
   "metadata": {},
   "source": [
    "LAYERS:\n",
    "    Layer classe are the bulk of Lasagne\n",
    "    1. Abstraction of a layer of neuron in a network\n",
    "    2.But also used for other functions(Pooling, reshaping, etc..)\n",
    "    3. Track Connectivity and data shape\n",
    "    4. Create and manage parameters(weight)"
   ]
  },
  {
   "cell_type": "markdown",
   "metadata": {},
   "source": [
    "OTHER MODEULE:\n",
    "1. init - weight initialization algorithms\n",
    "2. objectives - loss functions and evaluation metrics\n",
    "3. regularization - penalty functions\n",
    "4. updates - gradient descent variants"
   ]
  },
  {
   "cell_type": "markdown",
   "metadata": {},
   "source": [
    "Defining Layer Sequences:\n",
    "    input layer -> Layer(W,b) -> Layer(W,b)"
   ]
  },
  {
   "cell_type": "markdown",
   "metadata": {},
   "source": [
    "Get Expression for output:\n",
    "    \n"
   ]
  },
  {
   "cell_type": "markdown",
   "metadata": {},
   "source": [
    "x -> Input Layer -> Layer (W,b) -> Layer(W,b) -> Output"
   ]
  },
  {
   "cell_type": "markdown",
   "metadata": {},
   "source": [
    "Get Expression for loss function:"
   ]
  },
  {
   "cell_type": "markdown",
   "metadata": {},
   "source": [
    "x -> Input Layer -> Layer (W,b) -> Layer(W,b) -> Output ->loss(D-Y)"
   ]
  },
  {
   "cell_type": "markdown",
   "metadata": {},
   "source": [
    "### Sample code"
   ]
  },
  {
   "cell_type": "code",
   "execution_count": 81,
   "metadata": {
    "collapsed": false
   },
   "outputs": [],
   "source": [
    "import numpy as np\n",
    "import theano\n",
    "import theano.tensor as T\n",
    "import lasagne\n",
    "import matplotlib.pyplot as plt\n",
    "%matplotlib inline"
   ]
  },
  {
   "cell_type": "code",
   "execution_count": 82,
   "metadata": {
    "collapsed": true
   },
   "outputs": [],
   "source": [
    "import gzip\n",
    "import pickle"
   ]
  },
  {
   "cell_type": "code",
   "execution_count": 87,
   "metadata": {
    "collapsed": true
   },
   "outputs": [],
   "source": [
    "np.random.seed(42)"
   ]
  },
  {
   "cell_type": "code",
   "execution_count": 88,
   "metadata": {
    "collapsed": false
   },
   "outputs": [],
   "source": [
    "train, val , test = pickle.load(gzip.open('mnist.pkl.gz'))"
   ]
  },
  {
   "cell_type": "code",
   "execution_count": 86,
   "metadata": {
    "collapsed": true
   },
   "outputs": [],
   "source": [
    "x_train, y_train =train\n",
    "x_val, y_val = val"
   ]
  },
  {
   "cell_type": "code",
   "execution_count": 90,
   "metadata": {
    "collapsed": false
   },
   "outputs": [
    {
     "data": {
      "text/plain": [
       "(50000, 784)"
      ]
     },
     "execution_count": 90,
     "metadata": {},
     "output_type": "execute_result"
    }
   ],
   "source": [
    "x_train.shape"
   ]
  },
  {
   "cell_type": "code",
   "execution_count": 95,
   "metadata": {
    "collapsed": false
   },
   "outputs": [
    {
     "data": {
      "image/png": "[encoded data removed]",
      "text/plain": [
       "<matplotlib.figure.Figure at 0x7fa5423072d0>"
      ]
     },
     "metadata": {},
     "output_type": "display_data"
    }
   ],
   "source": [
    "plt.figure(figsize=(12,3))\n",
    "for i in range(10):\n",
    "    plt.subplot(1,10,i+1)\n",
    "    plt.imshow(x_train[i].reshape((28,28)),cmap='gray')\n",
    "    plt.axis('off')"
   ]
  },
  {
   "cell_type": "code",
   "execution_count": 98,
   "metadata": {
    "collapsed": true
   },
   "outputs": [],
   "source": [
    "#for training we want to sample examples at random in small batches\n",
    "def batch_gen(x,y,n):\n",
    "    while True:\n",
    "        idx = np.random.choice(len(y),n)\n",
    "        yield x[idx].astype('float32'), y[idx].astype('int32')"
   ]
  },
  {
   "cell_type": "code",
   "execution_count": 99,
   "metadata": {
    "collapsed": true
   },
   "outputs": [],
   "source": [
    "#A very simple network, a single layer with one neuron per target class\n",
    "#using the softmax activation functiongives us a probability distributing\n",
    "l_in = lasagne.layers.InputLayer((None,784))\n",
    "l_out = lasagne.layers.DenseLayer(\n",
    "    l_in,\n",
    "    num_units = 10,\n",
    "    nonlinearity=lasagne.nonlinearities.softmax)"
   ]
  },
  {
   "cell_type": "code",
   "execution_count": 100,
   "metadata": {
    "collapsed": true
   },
   "outputs": [],
   "source": [
    "#symbolic variables for our input features and targets\n",
    "x_sys = T.matrix()\n",
    "y_sys = T.ivector()"
   ]
  },
  {
   "cell_type": "code",
   "execution_count": 102,
   "metadata": {
    "collapsed": true
   },
   "outputs": [],
   "source": [
    "#Theano Expression for the output distribution and predicted class\n",
    "output = lasagne.layers.get_output(l_out, x_sys)\n",
    "pred = output.argmax(-1)"
   ]
  },
  {
   "cell_type": "code",
   "execution_count": 104,
   "metadata": {
    "collapsed": false
   },
   "outputs": [],
   "source": [
    "#loss function is the cross-entropy averaged over a minibatch, we also computer accuracy\n",
    "loss = T.mean(lasagne.objectives.categorical_crossentropy(output, y_sys))\n",
    "acc = T.mean(T.eq(pred,y_sys))\n"
   ]
  },
  {
   "cell_type": "code",
   "execution_count": 105,
   "metadata": {
    "collapsed": false
   },
   "outputs": [
    {
     "name": "stdout",
     "output_type": "stream",
     "text": [
      "[W, b]\n"
     ]
    }
   ],
   "source": [
    "# we retrieve all the trainable_parameters in our network\n",
    "params = lasagne.layers.get_all_params(l_out)\n",
    "print params"
   ]
  },
  {
   "cell_type": "code",
   "execution_count": 107,
   "metadata": {
    "collapsed": false
   },
   "outputs": [
    {
     "name": "stdout",
     "output_type": "stream",
     "text": [
      "OrderedDict([(W, Elemwise{sub,no_inplace}.0), (b, Elemwise{sub,no_inplace}.0)])\n"
     ]
    }
   ],
   "source": [
    "#Compute the gradient of the loss function with respect to the parameters\n",
    "#the stochastic Gradient Descent algorithm produces updates for each parameters\n",
    "grad = T.grad(loss, params)\n",
    "updates = lasagne.updates.sgd(grad,params,learning_rate = 0.05)\n",
    "print updates"
   ]
  },
  {
   "cell_type": "code",
   "execution_count": 108,
   "metadata": {
    "collapsed": true
   },
   "outputs": [],
   "source": [
    "#we define a training function that will compute the loss and accuracy\n",
    "f_train = theano.function([x_sys,y_sys],[loss,acc],updates=updates)"
   ]
  },
  {
   "cell_type": "code",
   "execution_count": 109,
   "metadata": {
    "collapsed": true
   },
   "outputs": [],
   "source": [
    "f_val = theano.function([x_sys,y_sys],[loss,acc])\n"
   ]
  },
  {
   "cell_type": "code",
   "execution_count": 110,
   "metadata": {
    "collapsed": true
   },
   "outputs": [],
   "source": [
    "f_predict=theano.function([x_sys],pred)"
   ]
  },
  {
   "cell_type": "code",
   "execution_count": 117,
   "metadata": {
    "collapsed": true
   },
   "outputs": [],
   "source": [
    "#we will choose the bathc size, and calculate the number of batches in an input set\n",
    "# (approximately one pass through the data)\n",
    "BATCH_SIZE = 64\n",
    "N_BATCHES = len(x_train) // BATCH_SIZE\n",
    "N_VAL_BATCHES = len(x_val) // BATCH_SIZE"
   ]
  },
  {
   "cell_type": "code",
   "execution_count": 118,
   "metadata": {
    "collapsed": true
   },
   "outputs": [],
   "source": [
    "#Mininbatch generation for training and validation sets\n",
    "train_batch = batch_gen(x_train, y_train, BATCH_SIZE)\n",
    "val_batch = batch_gen(x_val, y_val, BATCH_SIZE)"
   ]
  },
  {
   "cell_type": "code",
   "execution_count": 119,
   "metadata": {
    "collapsed": false
   },
   "outputs": [
    {
     "name": "stdout",
     "output_type": "stream",
     "text": [
      "9\n"
     ]
    },
    {
     "data": {
      "image/png": "[encoded data removed]",
      "text/plain": [
       "<matplotlib.figure.Figure at 0x7fa5405a7250>"
      ]
     },
     "metadata": {},
     "output_type": "display_data"
    }
   ],
   "source": [
    "#try sampling from the batch generator\n",
    "#plot an image and corresponding label to verify they match\n",
    "x, y = next(train_batch)\n",
    "plt.imshow(x[0].reshape((28,28)),cmap = 'gray',interpolation='nearest')\n",
    "print y[0]"
   ]
  },
  {
   "cell_type": "code",
   "execution_count": 126,
   "metadata": {
    "collapsed": false,
    "scrolled": true
   },
   "outputs": [
    {
     "name": "stdout",
     "output_type": "stream",
     "text": [
      "Epoch 0, Train (val) loss 0.282 (0.278) ratio 0.983\n",
      "Train (val) accuracy 0.922 (0.922)\n",
      "Epoch 1, Train (val) loss 0.290 (0.276) ratio 0.951\n",
      "Train (val) accuracy 0.919 (0.923)\n",
      "Epoch 2, Train (val) loss 0.281 (0.274) ratio 0.978\n",
      "Train (val) accuracy 0.922 (0.924)\n",
      "Epoch 3, Train (val) loss 0.286 (0.263) ratio 0.921\n",
      "Train (val) accuracy 0.920 (0.925)\n",
      "Epoch 4, Train (val) loss 0.282 (0.265) ratio 0.940\n",
      "Train (val) accuracy 0.921 (0.927)\n",
      "Epoch 5, Train (val) loss 0.274 (0.266) ratio 0.969\n",
      "Train (val) accuracy 0.924 (0.924)\n",
      "Epoch 6, Train (val) loss 0.276 (0.271) ratio 0.982\n",
      "Train (val) accuracy 0.922 (0.924)\n",
      "Epoch 7, Train (val) loss 0.280 (0.272) ratio 0.972\n",
      "Train (val) accuracy 0.922 (0.924)\n",
      "Epoch 8, Train (val) loss 0.276 (0.270) ratio 0.978\n",
      "Train (val) accuracy 0.923 (0.924)\n",
      "Epoch 9, Train (val) loss 0.274 (0.264) ratio 0.965\n",
      "Train (val) accuracy 0.924 (0.927)\n"
     ]
    }
   ],
   "source": [
    "#for each epoch, we call the training function N_BATCHES times,\n",
    "#accumulating an estimate of training loss and accuracy\n",
    "#then we do the same thing for the validation set\n",
    "#PLotting the ratio of val to train loss can help recognise the overfitting\n",
    "\n",
    "for epoch in range(10):\n",
    "    train_loss = 0 \n",
    "    train_acc = 0\n",
    "    for _ in range(N_BATCHES):\n",
    "        x,y = next(train_batch)\n",
    "        loss,acc = f_train(x,y)\n",
    "        train_loss +=loss\n",
    "        train_acc +=acc\n",
    "    train_loss /= N_BATCHES\n",
    "    train_acc /= N_BATCHES\n",
    "    val_loss = 0\n",
    "    val_acc =0\n",
    "    for _ in range(N_BATCHES):\n",
    "        x,y = next(val_batch)\n",
    "        loss,acc = f_val(x,y)\n",
    "        val_loss += loss\n",
    "        val_acc += acc\n",
    "    val_loss /= N_BATCHES\n",
    "    val_acc /= N_BATCHES\n",
    "    \n",
    "    \n",
    "    print (\"Epoch {}, Train (val) loss {:.03f} ({:.03f}) ratio {:.03f}\".format(epoch, train_loss,val_loss, val_loss/train_loss))\n",
    "    print (\"Train (val) accuracy {:.03f} ({:.03f})\".format(train_acc,val_acc))"
   ]
  },
  {
   "cell_type": "code",
   "execution_count": 128,
   "metadata": {
    "collapsed": false
   },
   "outputs": [
    {
     "name": "stdout",
     "output_type": "stream",
     "text": [
      "(784, 10)\n"
     ]
    }
   ],
   "source": [
    "#we can retrieve the value of the trained weight matrix from the output\n",
    "#it can be interpreted as a collection of images, one per class\n",
    "weights = l_out.W.get_value()\n",
    "print (weights.shape)"
   ]
  },
  {
   "cell_type": "code",
   "execution_count": 132,
   "metadata": {
    "collapsed": false
   },
   "outputs": [
    {
     "data": {
      "image/png": "[encoded data removed]",
      "text/plain": [
       "<matplotlib.figure.Figure at 0x7fa541e8fd10>"
      ]
     },
     "metadata": {},
     "output_type": "display_data"
    }
   ],
   "source": [
    "#plotting the weight images,we can recognise similarities to the target\n",
    "plt.figure(figsize=(12,3))\n",
    "for i in range(10):\n",
    "    plt.subplot(1,10,i+1)\n",
    "    plt.imshow(weights[:,i].reshape((28,28)),cmap='gray',interpolation='nearest')\n",
    "    plt.axis('off')"
   ]
  },
  {
   "cell_type": "markdown",
   "metadata": {},
   "source": [
    "### Convolutional Digital Recognizer"
   ]
  },
  {
   "cell_type": "code",
   "execution_count": 133,
   "metadata": {
    "collapsed": true
   },
   "outputs": [],
   "source": [
    "import numpy as np\n",
    "import theano\n",
    "import theano.tensor as T "
   ]
  },
  {
   "cell_type": "code",
   "execution_count": 134,
   "metadata": {
    "collapsed": true
   },
   "outputs": [],
   "source": [
    "#seed for reproduciblity\n",
    "np.random.seed(42)"
   ]
  },
  {
   "cell_type": "code",
   "execution_count": null,
   "metadata": {
    "collapsed": true
   },
   "outputs": [],
   "source": []
  }
 ],
 "metadata": {
  "kernelspec": {
   "display_name": "Python 2",
   "language": "python",
   "name": "python2"
  },
  "language_info": {
   "codemirror_mode": {
    "name": "ipython",
    "version": 2
   },
   "file_extension": ".py",
   "mimetype": "text/x-python",
   "name": "python",
   "nbconvert_exporter": "python",
   "pygments_lexer": "ipython2",
   "version": "2.7.12"
  }
 },
 "nbformat": 4,
 "nbformat_minor": 1
}
