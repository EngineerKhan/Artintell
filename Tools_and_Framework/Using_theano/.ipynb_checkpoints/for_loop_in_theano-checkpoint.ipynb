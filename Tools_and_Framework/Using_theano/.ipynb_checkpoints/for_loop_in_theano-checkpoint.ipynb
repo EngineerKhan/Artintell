{
 "metadata": {
  "name": "",
  "signature": "sha256:469c16fed73422f9fb18037058968877c1c898e08a7a8c829c5571e44045ed99"
 },
 "nbformat": 3,
 "nbformat_minor": 0,
 "worksheets": [
  {
   "cells": [
    {
     "cell_type": "heading",
     "level": 2,
     "metadata": {},
     "source": [
      "For loop in theano and scan "
     ]
    },
    {
     "cell_type": "code",
     "collapsed": false,
     "input": [
      "from __future__ import print_function"
     ],
     "language": "python",
     "metadata": {},
     "outputs": [],
     "prompt_number": 36
    },
    {
     "cell_type": "code",
     "collapsed": false,
     "input": [
      "length = 10\n",
      "\n",
      "first = 0\n",
      "second = 1\n",
      "\n",
      "seq = []"
     ],
     "language": "python",
     "metadata": {},
     "outputs": [],
     "prompt_number": 37
    },
    {
     "cell_type": "code",
     "collapsed": false,
     "input": [
      "def steps(second, first):\n",
      "    val = first + second\n",
      "    return val, second\n"
     ],
     "language": "python",
     "metadata": {},
     "outputs": [],
     "prompt_number": 38
    },
    {
     "cell_type": "code",
     "collapsed": false,
     "input": [
      "for i in range(length):\n",
      "    first, second = steps(first, second)\n",
      "    seq.append(first)\n",
      "print (seq)"
     ],
     "language": "python",
     "metadata": {},
     "outputs": [
      {
       "output_type": "stream",
       "stream": "stdout",
       "text": [
        "[1, 1, 2, 3, 5, 8, 13, 21, 34, 55]\n"
       ]
      }
     ],
     "prompt_number": 39
    },
    {
     "cell_type": "markdown",
     "metadata": {},
     "source": [
      "Using Theano"
     ]
    },
    {
     "cell_type": "code",
     "collapsed": false,
     "input": [
      "from theano import tensor as T, scan , function"
     ],
     "language": "python",
     "metadata": {},
     "outputs": [],
     "prompt_number": 40
    },
    {
     "cell_type": "code",
     "collapsed": false,
     "input": [
      "h1, h2 = T.scalars('first','second')\n",
      "\n",
      "def _steps(first,second):\n",
      "    val = first + second\n",
      "    return val, first"
     ],
     "language": "python",
     "metadata": {},
     "outputs": [],
     "prompt_number": 41
    },
    {
     "cell_type": "code",
     "collapsed": false,
     "input": [
      "outputs, updates = scan(_steps, sequences=[], outputs_info=[h1,h2], n_steps=length)"
     ],
     "language": "python",
     "metadata": {},
     "outputs": [],
     "prompt_number": 44
    },
    {
     "cell_type": "code",
     "collapsed": false,
     "input": [
      "f= function([h1,h2],outputs[0])"
     ],
     "language": "python",
     "metadata": {},
     "outputs": [],
     "prompt_number": 49
    },
    {
     "cell_type": "code",
     "collapsed": false,
     "input": [
      "f(0,1)"
     ],
     "language": "python",
     "metadata": {},
     "outputs": [
      {
       "metadata": {},
       "output_type": "pyout",
       "prompt_number": 50,
       "text": [
        "array([  1.,   1.,   2.,   3.,   5.,   8.,  13.,  21.,  34.,  55.])"
       ]
      }
     ],
     "prompt_number": 50
    },
    {
     "cell_type": "code",
     "collapsed": false,
     "input": [],
     "language": "python",
     "metadata": {},
     "outputs": []
    }
   ],
   "metadata": {}
  }
 ]
}