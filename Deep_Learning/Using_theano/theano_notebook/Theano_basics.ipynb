{
 "metadata": {
  "name": "",
  "signature": "sha256:9220c270e67566b9ec54c9a0da37c70575a995179b75e85f80a54af4767797f9"
 },
 "nbformat": 3,
 "nbformat_minor": 0,
 "worksheets": [
  {
   "cells": [
    {
     "cell_type": "markdown",
     "metadata": {},
     "source": [
      "#THEANO"
     ]
    },
    {
     "cell_type": "markdown",
     "metadata": {},
     "source": [
      "Theano is a Python library that lets you to define, optimize, and evaluate mathematical expressions, especially ones with multi-dimensional arrays (numpy.ndarray). Using Theano it is possible to attain speeds rivaling hand-crafted C implementations for problems involving large amounts of data. It can also surpass C on a CPU by many orders of magnitude by taking advantage of recent GPUs. Theano combines aspects of a computer algebra system (CAS) with aspects of an optimizing compiler. It can also generate customized C code for many mathematical operations. This combination of CAS with optimizing compilation is particularly useful for tasks in which complicated mathematical expressions are evaluated repeatedly and evaluation speed is critical. For situations where many different expressions are each evaluated once Theano can minimize the amount of compilation/analysis overhead, but still provide symbolic features such as automatic differentiation."
     ]
    },
    {
     "cell_type": "markdown",
     "metadata": {},
     "source": [
      "###Example-1"
     ]
    },
    {
     "cell_type": "code",
     "collapsed": false,
     "input": [
      "import theano\n",
      "from theano import tensor\n",
      "#declaring variables\n",
      "a = tensor.dscalar()\n",
      "b = tensor.dscalar()\n",
      "c = a + b\n",
      "#declared an expression with pre-declared variable\n",
      "func = theano.function([a,b],c)\n",
      "#converted expression into theano object\n",
      "#using the declared function to compute different values\n",
      "print (func(2.5,3.5))"
     ],
     "language": "python",
     "metadata": {},
     "outputs": [
      {
       "output_type": "stream",
       "stream": "stdout",
       "text": [
        "6.0\n"
       ]
      }
     ],
     "prompt_number": 2
    },
    {
     "cell_type": "markdown",
     "metadata": {},
     "source": [
      "This is a simple example just to show what theano is, but it doesn't show several theano's vital features."
     ]
    },
    {
     "cell_type": "code",
     "collapsed": false,
     "input": [
      "print type(a)\n",
      "print a.type\n",
      "#Every variable in theano is taken as a tensor variable with varying dimension"
     ],
     "language": "python",
     "metadata": {},
     "outputs": [
      {
       "output_type": "stream",
       "stream": "stdout",
       "text": [
        "<class 'theano.tensor.var.TensorVariable'>\n",
        "TensorType(float64, scalar)\n"
       ]
      }
     ],
     "prompt_number": 3
    },
    {
     "cell_type": "markdown",
     "metadata": {},
     "source": [
      "By calling T.dscalar with a string argument, you create a Variable representing a floating-point scalar\n",
      "quantity with the given name"
     ]
    },
    {
     "cell_type": "code",
     "collapsed": false,
     "input": [
      "from theano import pp\n",
      "print pp(c)"
     ],
     "language": "python",
     "metadata": {},
     "outputs": [
      {
       "output_type": "stream",
       "stream": "stdout",
       "text": [
        "(<TensorType(float64, scalar)> + <TensorType(float64, scalar)>)\n"
       ]
      }
     ],
     "prompt_number": 4
    },
    {
     "cell_type": "markdown",
     "metadata": {},
     "source": [
      "This pretty-print function describes the computation of a function"
     ]
    },
    {
     "cell_type": "markdown",
     "metadata": {},
     "source": [
      "#####eval()"
     ]
    },
    {
     "cell_type": "markdown",
     "metadata": {},
     "source": [
      "There is shortcut to skip the usage of theano's function method by using eval method. But it is not as flexible as function()."
     ]
    },
    {
     "cell_type": "code",
     "collapsed": false,
     "input": [
      "import theano.tensor as T\n",
      "a = T.dscalar('a')\n",
      "b = T.dscalar('b')\n",
      "c = a + b\n",
      "print c.eval({a : 2.5, b : 3.5})"
     ],
     "language": "python",
     "metadata": {},
     "outputs": [
      {
       "output_type": "stream",
       "stream": "stdout",
       "text": [
        "6.0\n"
       ]
      }
     ],
     "prompt_number": 5
    },
    {
     "cell_type": "markdown",
     "metadata": {},
     "source": [
      "This \"eval()\" method just act as a direct substitution of values in the expression."
     ]
    },
    {
     "cell_type": "markdown",
     "metadata": {},
     "source": [
      "###Example-2 (Adding two Matrices)"
     ]
    },
    {
     "cell_type": "code",
     "collapsed": false,
     "input": [
      "import theano as th\n",
      "import theano.tensor as t\n",
      "x = t.dmatrix('x')\n",
      "y = t.dmatrix('y')\n",
      "z = x + y\n",
      "func = th.function([x,y], z)\n",
      "a = [[1,1],[2,2]]\n",
      "b = [[2,2],[1,1]]\n",
      "print func(a,b)"
     ],
     "language": "python",
     "metadata": {},
     "outputs": [
      {
       "output_type": "stream",
       "stream": "stdout",
       "text": [
        "[[ 3.  3.]\n",
        " [ 3.  3.]]\n"
       ]
      }
     ],
     "prompt_number": 6
    },
    {
     "cell_type": "markdown",
     "metadata": {},
     "source": [
      "###Type of Tensor Variable Declaration in theano are:"
     ]
    },
    {
     "cell_type": "markdown",
     "metadata": {},
     "source": [
      "####byte \n",
      "bscalar, bvector , bmatrix, brow, bcol,btensor3, btensor4\n",
      "####16-bit integers:\n",
      "wscalar, wvector, wmatrix, wrow, wcol, wtensor3, wtensor4\n",
      "####32-bit integers:\n",
      "iscalar, ivector, imatrix, irow, icol, itensor3, itensor4\n",
      "####64-bit integers:\n",
      "lscalar, lvector, lmatrix, lrow, lcol, ltensor3, ltensor4\n",
      "####flaot:\n",
      "fscalar, fvector, fmatrix, frow, fcol, ftensor3, ftensor4\n",
      "####double:\n",
      "dscalar, dvector, dmatrix, drow, dcol, dtensor3, dtensor4\n",
      "####complex:\n",
      "cscalar, cvector, cmatrix, crow, ccol, ctensor3, ctensor4"
     ]
    },
    {
     "cell_type": "markdown",
     "metadata": {},
     "source": [
      "###Example - 3 \n",
      "####Computing the expression a^2 + b^2 + 2*a*b"
     ]
    },
    {
     "cell_type": "code",
     "collapsed": false,
     "input": [
      "import theano as th\n",
      "import theano.tensor as t\n",
      "a = t.dscalar('a')\n",
      "b = t.dscalar('b')\n",
      "c = a**2 + b**2 + 2*a*b\n",
      "func = th.function([a,b],c)\n",
      "print func(2,2)"
     ],
     "language": "python",
     "metadata": {},
     "outputs": [
      {
       "output_type": "stream",
       "stream": "stdout",
       "text": [
        "16.0\n"
       ]
      }
     ],
     "prompt_number": 7
    },
    {
     "cell_type": "markdown",
     "metadata": {},
     "source": [
      "###Logistic Function"
     ]
    },
    {
     "cell_type": "markdown",
     "metadata": {},
     "source": [
      "Here\u2019s another straightforward example, though a bit more elaborate than adding two numbers together.\n",
      "Let\u2019s say that you want to compute the logistic curve, which is given by:"
     ]
    },
    {
     "cell_type": "markdown",
     "metadata": {},
     "source": [
      "![Logistic Function](images/logistic_func.png \"Logistic Function\")"
     ]
    },
    {
     "cell_type": "code",
     "collapsed": false,
     "input": [
      "import theano as th\n",
      "import theano.tensor as t\n",
      "x = t.dmatrix('x')\n",
      "s = 1/(1+t.exp(-x))\n",
      "logistic = th.function([x],s)\n",
      "sol_1 =  logistic([[0,1],[-1,-2]])\n",
      "print sol_1"
     ],
     "language": "python",
     "metadata": {},
     "outputs": [
      {
       "output_type": "stream",
       "stream": "stdout",
       "text": [
        "[[ 0.5         0.73105858]\n",
        " [ 0.26894142  0.11920292]]\n"
       ]
      }
     ],
     "prompt_number": 8
    },
    {
     "cell_type": "markdown",
     "metadata": {},
     "source": [
      "In the above example the compution is done elementwise in the matrix given with the declared operation. Let us extend this using another derived function with tanh"
     ]
    },
    {
     "cell_type": "markdown",
     "metadata": {},
     "source": [
      "![logistic_2](images/logistic_2.png \"Logistic_derived\")"
     ]
    },
    {
     "cell_type": "code",
     "collapsed": false,
     "input": [
      "s2 = (1 + t.tanh(x/2)) / 2\n",
      "logistic_1 = th.function([x],s2)\n",
      "sol_2 = logistic_1([[0,1],[-1,-2]])\n",
      "print sol_2\n",
      "import numpy as np\n",
      "np.allclose(sol_1,sol_2)"
     ],
     "language": "python",
     "metadata": {},
     "outputs": [
      {
       "output_type": "stream",
       "stream": "stdout",
       "text": [
        "[[ 0.5         0.73105858]\n",
        " [ 0.26894142  0.11920292]]\n"
       ]
      },
      {
       "metadata": {},
       "output_type": "pyout",
       "prompt_number": 9,
       "text": [
        "True"
       ]
      }
     ],
     "prompt_number": 9
    },
    {
     "cell_type": "markdown",
     "metadata": {},
     "source": [
      "###Computing more than one expression at the same time"
     ]
    },
    {
     "cell_type": "markdown",
     "metadata": {},
     "source": [
      "Theano support function with multiple outputs."
     ]
    },
    {
     "cell_type": "code",
     "collapsed": false,
     "input": [
      "import theano as th\n",
      "import theano.tensor as t\n",
      "a, b = t.dmatrices('a','b')\n",
      "diff = a - b\n",
      "abs_diff = abs(diff)\n",
      "diff_squared = diff**2\n",
      "func = th.function([a,b],[diff, abs_diff, diff_squared])\n",
      "a = [[1,1],[1,1]]\n",
      "b = [[0,1],[2,3]]\n",
      "print func(a,b)[0],'\\n',func(a,b)[1],'\\n',func(a,b)[2]"
     ],
     "language": "python",
     "metadata": {},
     "outputs": [
      {
       "output_type": "stream",
       "stream": "stdout",
       "text": [
        "[[ 1.  0.]\n",
        " [-1. -2.]] \n",
        "[[ 1.  0.]\n",
        " [ 1.  2.]] \n",
        "[[ 1.  0.]\n",
        " [ 1.  4.]]\n"
       ]
      }
     ],
     "prompt_number": 10
    },
    {
     "cell_type": "markdown",
     "metadata": {},
     "source": [
      "###Setting a Default Value for an Arguement"
     ]
    },
    {
     "cell_type": "markdown",
     "metadata": {},
     "source": [
      "Let\u2019s say you want to define a function that adds two numbers, except that if you only provide one number, the other input is assumed to be one. You can do it like this:"
     ]
    },
    {
     "cell_type": "code",
     "collapsed": false,
     "input": [
      "from theano import In\n",
      "x, y = t.dscalars('x','y')\n",
      "z = x + y\n",
      "func = th.function([x, In(y, value=1)], z)\n",
      "print func(4)\n",
      "print func(4,2)"
     ],
     "language": "python",
     "metadata": {},
     "outputs": [
      {
       "output_type": "stream",
       "stream": "stdout",
       "text": [
        "5.0\n",
        "6.0\n"
       ]
      }
     ],
     "prompt_number": 11
    },
    {
     "cell_type": "markdown",
     "metadata": {},
     "source": [
      "In class which allows you to specify properties of your function\u2019s parameters with\n",
      "greater detail. Here we give a default value of 1 for y by creating a In instance with its value field set to\n",
      "1.\n",
      "Inputs with default values must follow inputs without default values (like Python\u2019s functions). There can\n",
      "be multiple inputs with default values. These parameters can be set positionally or by name, as in standard\n",
      "Python"
     ]
    },
    {
     "cell_type": "code",
     "collapsed": false,
     "input": [
      "x, y, w = t.dscalars('x','y','w')\n",
      "z = (x + y) * w\n",
      "func = th.function([x, In(y, value = 1), In(w, value=2, name='w')],z)"
     ],
     "language": "python",
     "metadata": {},
     "outputs": [],
     "prompt_number": 12
    },
    {
     "cell_type": "code",
     "collapsed": false,
     "input": [
      "print func(20)\n",
      "print func(33,2)\n",
      "print func(50, w = 3)"
     ],
     "language": "python",
     "metadata": {},
     "outputs": [
      {
       "output_type": "stream",
       "stream": "stdout",
       "text": [
        "42.0\n",
        "70.0\n",
        "153.0\n"
       ]
      }
     ],
     "prompt_number": 13
    },
    {
     "cell_type": "markdown",
     "metadata": {},
     "source": [
      "####Note: \n",
      "In does not know the name of the local variables y and w that are passed as arguments. The\n",
      "symbolic variable objects have name attributes (set by dscalars in the example above) and these are the\n",
      "names of the keyword parameters in the functions that we build. This is the mechanism at work in In(y,\n",
      "value=1). In the case of In(w, value=2, name='w'). We override the symbolic\n",
      "variable\u2019s name attribute with a name to be used for this function."
     ]
    },
    {
     "cell_type": "markdown",
     "metadata": {},
     "source": [
      "###Using Shared Variable"
     ]
    },
    {
     "cell_type": "markdown",
     "metadata": {},
     "source": [
      "It is also possible to make a function with an internal state. For example, let\u2019s say we want to make an\n",
      "accumulator: at the beginning, the state is initialized to zero. Then, on each function call, the state is\n",
      "incremented by the function\u2019s argument."
     ]
    },
    {
     "cell_type": "code",
     "collapsed": false,
     "input": [
      "from theano import shared\n",
      "state = shared(0)\n",
      "inc = T.iscalar('inc')\n",
      "accumulator = th.function([inc], state, updates=[(state, state+inc)])\n",
      "print state.get_value()\n"
     ],
     "language": "python",
     "metadata": {},
     "outputs": [
      {
       "output_type": "stream",
       "stream": "stdout",
       "text": [
        "0\n"
       ]
      }
     ],
     "prompt_number": 14
    },
    {
     "cell_type": "code",
     "collapsed": false,
     "input": [
      "accumulator(1)"
     ],
     "language": "python",
     "metadata": {},
     "outputs": [
      {
       "metadata": {},
       "output_type": "pyout",
       "prompt_number": 15,
       "text": [
        "array(0)"
       ]
      }
     ],
     "prompt_number": 15
    },
    {
     "cell_type": "code",
     "collapsed": false,
     "input": [
      "print state.get_value()"
     ],
     "language": "python",
     "metadata": {},
     "outputs": [
      {
       "output_type": "stream",
       "stream": "stdout",
       "text": [
        "1\n"
       ]
      }
     ],
     "prompt_number": 16
    },
    {
     "cell_type": "code",
     "collapsed": false,
     "input": [
      "accumulator(20)"
     ],
     "language": "python",
     "metadata": {},
     "outputs": [
      {
       "metadata": {},
       "output_type": "pyout",
       "prompt_number": 17,
       "text": [
        "array(1)"
       ]
      }
     ],
     "prompt_number": 17
    },
    {
     "cell_type": "code",
     "collapsed": false,
     "input": [
      "print state.get_value()"
     ],
     "language": "python",
     "metadata": {},
     "outputs": [
      {
       "output_type": "stream",
       "stream": "stdout",
       "text": [
        "21\n"
       ]
      }
     ],
     "prompt_number": 18
    },
    {
     "cell_type": "code",
     "collapsed": false,
     "input": [
      "#to reset the state value\n",
      "state.set_value(0)\n",
      "accumulator(2)\n",
      "print state.get_value()"
     ],
     "language": "python",
     "metadata": {},
     "outputs": [
      {
       "output_type": "stream",
       "stream": "stdout",
       "text": [
        "2\n"
       ]
      }
     ],
     "prompt_number": 19
    },
    {
     "cell_type": "markdown",
     "metadata": {},
     "source": [
      "You might be wondering why the updates mechanism exists. You can always achieve a similar result by\n",
      "returning the new expressions, and working with them in NumPy as usual. The updates mechanism can be\n",
      "a syntactic convenience, but it is mainly there for efficiency. Updates to shared variables can sometimes be\n",
      "done more quickly using in-place algorithms (e.g. low-rank matrix updates). Also, Theano has more control\n",
      "over where and how shared variables are allocated, which is one of the important elements of getting good\n",
      "performance on the GPU.\n",
      "It may happen that you expressed some formula using a shared variable, but you do not want to use its value.\n",
      "In this case, you can use the givens parameter of function which replaces a particular node in a graph for the purpose of one particular function."
     ]
    },
    {
     "cell_type": "code",
     "collapsed": false,
     "input": [
      "#using given parameters which replaces particular node in a graph for the \n",
      "#purpose of one particular function.\n",
      "fn_of_state = state * 2 + inc\n",
      "foo = t.scalar(dtype=state.dtype)\n",
      "skip_shared = th.function([inc,foo], fn_of_state, givens = [(state, foo)])\n",
      "print skip_shared(2,1)"
     ],
     "language": "python",
     "metadata": {},
     "outputs": [
      {
       "output_type": "stream",
       "stream": "stdout",
       "text": [
        "4\n"
       ]
      }
     ],
     "prompt_number": 20
    },
    {
     "cell_type": "code",
     "collapsed": false,
     "input": [
      "print state.get_value()\n"
     ],
     "language": "python",
     "metadata": {},
     "outputs": [
      {
       "output_type": "stream",
       "stream": "stdout",
       "text": [
        "2\n"
       ]
      }
     ],
     "prompt_number": 21
    },
    {
     "cell_type": "markdown",
     "metadata": {},
     "source": [
      "The givens parameter can be used to replace any symbolic variable, not just a shared variable. You can\n",
      "replace constants, and expressions, in general. Be careful though, not to allow the expressions introduced\n",
      "by a givens substitution to be co-dependent, the order of substitution is not defined, so the substitutions\n",
      "have to work in any order.\n",
      "####Note:\n",
      "Theano shared variable broadcast pattern default to False for each dimensions. Shared variable size\n",
      "can change over time, so we can\u2019t use the shape to find the broadcastable pattern. If you want a different\n",
      "pattern, just pass it as a parameter theano.shared(..., broadcastable=(True, False))"
     ]
    },
    {
     "cell_type": "markdown",
     "metadata": {},
     "source": [
      "###Copying Functions"
     ]
    },
    {
     "cell_type": "markdown",
     "metadata": {},
     "source": [
      "Theano functions can be copied, which can be useful for creating similar functions but with different shared\n",
      "variables or updates. This is done using the copy() method of function objects. The optimized graph\n",
      "of the original function is copied, so compilation only needs to be performed once."
     ]
    },
    {
     "cell_type": "code",
     "collapsed": false,
     "input": [
      "state = th.shared(0)\n",
      "inc = t.iscalar('inc')\n",
      "accumulator = th.function([inc], state, updates=[(state, state+inc)], \n",
      "                          on_unused_input='ignore')\n",
      "#Let\u2019s add the on_unused_input='ignore' parameterin case we don\u2019t want to \n",
      "#use both of our current arguments in a future copy of the function"
     ],
     "language": "python",
     "metadata": {},
     "outputs": [],
     "prompt_number": 23
    },
    {
     "cell_type": "code",
     "collapsed": false,
     "input": [
      "accumulator(10)\n",
      "print state.get_value()"
     ],
     "language": "python",
     "metadata": {},
     "outputs": [
      {
       "output_type": "stream",
       "stream": "stdout",
       "text": [
        "30\n"
       ]
      }
     ],
     "prompt_number": 26
    },
    {
     "cell_type": "code",
     "collapsed": false,
     "input": [],
     "language": "python",
     "metadata": {},
     "outputs": []
    }
   ],
   "metadata": {}
  }
 ]
}