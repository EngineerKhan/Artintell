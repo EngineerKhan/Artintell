{
 "cells": [
  {
   "cell_type": "markdown",
   "metadata": {},
   "source": [
    "#### Logistic Regression using conjugate gradient Descent"
   ]
  },
  {
   "cell_type": "code",
   "execution_count": 2,
   "metadata": {
    "collapsed": false
   },
   "outputs": [],
   "source": [
    "import os\n",
    "import sys\n",
    "import timeit\n",
    "import numpy as np\n",
    "import theano\n",
    "import theano.tensor as T"
   ]
  },
  {
   "cell_type": "markdown",
   "metadata": {},
   "source": [
    "the following codes will import the necessary python packages for this program"
   ]
  },
  {
   "cell_type": "code",
   "execution_count": null,
   "metadata": {
    "collapsed": true
   },
   "outputs": [],
   "source": [
    "class logisticregression(object):\n",
    "    def __init__(self,input, n_in, n_out):\n",
    "        self.theta = theano.shared(value=numpy.zeros(n_in * n_out + n_out, dtype = theano.config.floatX), name='theta', borrow = True)\n",
    "        self.W = self.theta[0:n_in * n_out].reshape((n_in, n_out))\n",
    "        self.b = self.theta[n_in * n_out:n_in * n_out+n_out]\n",
    "        self.p_y_given_x = T.nnet.softmax(T.dot(input, self.W)+self.b)\n",
    "        self.y_pred = T.argmax(self.p_y_given_x, axis=1)\n",
    "        self.input = input\n",
    "    def negative_log_likelihood(self, y ):\n",
    "        v0\n"
   ]
  }
 ],
 "metadata": {
  "kernelspec": {
   "display_name": "Python 2",
   "language": "python",
   "name": "python2"
  },
  "language_info": {
   "codemirror_mode": {
    "name": "ipython",
    "version": 2
   },
   "file_extension": ".py",
   "mimetype": "text/x-python",
   "name": "python",
   "nbconvert_exporter": "python",
   "pygments_lexer": "ipython2",
   "version": "2.7.12"
  }
 },
 "nbformat": 4,
 "nbformat_minor": 1
}
