{
 "metadata": {
  "name": "",
  "signature": "sha256:8b5c6d871e8458b4f5664ba56ee063d2b4f65f407449c632845ec0468e1ec011"
 },
 "nbformat": 3,
 "nbformat_minor": 0,
 "worksheets": [
  {
   "cells": [
    {
     "cell_type": "markdown",
     "metadata": {},
     "source": [
      "        DENOISING AUTOENCODEr"
     ]
    },
    {
     "cell_type": "code",
     "collapsed": false,
     "input": [
      "from __future__ import print_function\n",
      "import os\n",
      "import sys\n",
      "import timeit\n",
      "import numpy\n",
      "import theano\n",
      "import theano.tensor as T\n",
      "from theano.tensor.shared_randomstreams import RandomStreams\n",
      "#from logistic_sgd import load_data"
     ],
     "language": "python",
     "metadata": {},
     "outputs": [],
     "prompt_number": 5
    },
    {
     "cell_type": "code",
     "collapsed": false,
     "input": [
      "import PIL.Image as image"
     ],
     "language": "python",
     "metadata": {},
     "outputs": [],
     "prompt_number": 6
    },
    {
     "cell_type": "code",
     "collapsed": false,
     "input": [
      "class da(object):\n",
      "    def __init__(self,numpy_rng,theano_rng=None, n_visible=784,n_hidden=500,\n",
      "                 W=None, bhid=None,bvis=None):\n",
      "        self.n_visible = n_visible\n",
      "        self.n_hidden = n_hidden\n",
      "        if not theano_rng:\n",
      "            theano_rng = RandomStreams(numpy_rng.randint(2 ** 30))\n",
      "        if not W:\n",
      "            initial_w = numpy.asarray(numpy_rng.uniform(\n",
      "                                low = -4*numpy.sqrt((n_hidden + n_visible)),\n",
      "                                high = 4*numpy.sqrt((n_hidden + n_visible)),\n",
      "                                size = (n_hidden,n_visible)),\n",
      "                                dtype = theano.config.floatX)\n",
      "            W = theano.shared(value = initial_w, name='W', borrow=True)\n",
      "            \n",
      "        if not bvis:\n",
      "            bvis = theano.shared(value = numpy.zeros(n_visible,dtype = theano.config.floatX),\n",
      "                                 borrow=True)\n",
      "        if not bhid:\n",
      "            bhid = theano.shared(value = numpy.zeros(n_visible,dtype = theano.config.floatX),\n",
      "                                 name='b',borrow=True)\n",
      "        self.W = W\n",
      "        self.b = bhid\n",
      "        self.b_prime = bvis\n",
      "        self.W_prime = self.W.T\n",
      "        self.theano.rng = theano_rng\n",
      "        if input in None:\n",
      "            self.x = T.dmatrix(name='input')\n",
      "        else:\n",
      "            self.x = input\n",
      "            \n",
      "        self.params = [self.W,self.b,self.b_prime]\n",
      "        \n",
      "    def get_corrupted_input(self,input, corruption_level):\n",
      "        return self.theano_rng.binomial(size=input.shape,n=1,p=1-corruption_level, \n",
      "                                        dtype=theano.config.floatX) * input\n",
      "    def get_hidden_values(self,input):\n",
      "        return T.nnet.sigmoid(T.dot(input,self.W) + self.b)\n",
      "    def get_reconstructed_input(self,hidden):\n",
      "        return T.nnet.sigmoid(T.dot(hidden, self.W_prime) + self.b_prime)\n",
      "    "
     ],
     "language": "python",
     "metadata": {},
     "outputs": [],
     "prompt_number": 9
    },
    {
     "cell_type": "code",
     "collapsed": false,
     "input": [],
     "language": "python",
     "metadata": {},
     "outputs": []
    }
   ],
   "metadata": {}
  }
 ]
}