{
 "metadata": {
  "name": "",
  "signature": "sha256:e320c3960311fd6d0c10c44ac2d48efcafc42f1bf2259c7d539ce6b3b380593f"
 },
 "nbformat": 3,
 "nbformat_minor": 0,
 "worksheets": [
  {
   "cells": [
    {
     "cell_type": "markdown",
     "metadata": {},
     "source": [
      "        DENOISING AUTOENCODE"
     ]
    },
    {
     "cell_type": "code",
     "collapsed": false,
     "input": [
      "from __future__ import print_function\n",
      "import os\n",
      "import sys\n",
      "import timeit\n",
      "import numpy\n",
      "import theano\n",
      "import theano.tensor as T\n",
      "from theano.tensor.shared_randomstreams import RandomStreams\n",
      "#from logistic_sgd import load_data"
     ],
     "language": "python",
     "metadata": {},
     "outputs": [],
     "prompt_number": 11
    },
    {
     "cell_type": "code",
     "collapsed": false,
     "input": [
      "import PIL.Image as image"
     ],
     "language": "python",
     "metadata": {},
     "outputs": [],
     "prompt_number": 12
    },
    {
     "cell_type": "code",
     "collapsed": false,
     "input": [
      "class da(object):\n",
      "    def __init__(self,numpy_rng,theano_rng=None, n_visible=784,n_hidden=500,\n",
      "                 W=None, bhid=None,bvis=None):\n",
      "        self.n_visible = n_visible\n",
      "        self.n_hidden = n_hidden\n",
      "        if not theano_rng:\n",
      "            theano_rng = RandomStreams(numpy_rng.randint(2 ** 30))\n",
      "        if not W:\n",
      "            initial_w = numpy.asarray(numpy_rng.uniform(\n",
      "                                low = -4*numpy.sqrt((n_hidden + n_visible)),\n",
      "                                high = 4*numpy.sqrt((n_hidden + n_visible)),\n",
      "                                size = (n_hidden,n_visible)),\n",
      "                                dtype = theano.config.floatX)\n",
      "            W = theano.shared(value = initial_w, name='W', borrow=True)\n",
      "            \n",
      "        if not bvis:\n",
      "            bvis = theano.shared(value = numpy.zeros(n_visible,dtype = theano.config.floatX),\n",
      "                                 borrow=True)\n",
      "        if not bhid:\n",
      "            bhid = theano.shared(value = numpy.zeros(n_visible,dtype = theano.config.floatX),\n",
      "                                 name='b',borrow=True)\n",
      "        self.W = W\n",
      "        self.b = bhid\n",
      "        self.b_prime = bvis\n",
      "        self.W_prime = self.W.T\n",
      "        self.theano.rng = theano_rng\n",
      "        if input in None:\n",
      "            self.x = T.dmatrix(name='input')\n",
      "        else:\n",
      "            self.x = input\n",
      "            \n",
      "        self.params = [self.W,self.b,self.b_prime]\n",
      "        \n",
      "    def get_corrupted_input(self,input, corruption_level):\n",
      "        return self.theano_rng.binomial(size=input.shape,n=1,p=1-corruption_level, \n",
      "                                        dtype=theano.config.floatX) * input\n",
      "    def get_hidden_values(self,input):\n",
      "        return T.nnet.sigmoid(T.dot(input,self.W) + self.b)\n",
      "    def get_reconstructed_input(self,hidden):\n",
      "        return T.nnet.sigmoid(T.dot(hidden, self.W_prime) + self.b_prime)\n",
      "    def get_cost_updates(self, corruption_level, learning_rate):\n",
      "        tilde_x = self.get_corrupted_input(self.x,corruption_level)\n",
      "        y = self.get_hidden_values(tilde_x)\n",
      "        z = self.get_reconstructed_input(y)\n",
      "        L = -T.sum(self.x *  T.log(z) + (1-self.x) * T.log(1-z),axis=1)\n",
      "        cost = T.mean()\n",
      "        gparams = T.grad(cost, self.params)\n",
      "        updates = [(param, param - learning_rate * gparam) for param, gparam in zip(self.params, gparams)]\n",
      "        return (cost, updates)\n",
      "    \n",
      "    def test_da(learning_rate = 0.1, training_epochs = 15, dataset='mnist.pkl.gz', batch_size=20,\n",
      "                        output_folder = 'da_plots'):\n",
      "        datasets = load_data(dataset)\n",
      "        train_set_x , train_set_y = datasets[0]\n",
      "        n_train_batches = train_set_x.get_value(borrow=True).shape[0] // batch_size\n",
      "        index = T.lscalar()\n",
      "        x =T.matrix('x')\n",
      "        if not os.path.isdir(output_folder):\n",
      "            "
     ],
     "language": "python",
     "metadata": {},
     "outputs": [
      {
       "ename": "IndentationError",
       "evalue": "expected an indented block (<ipython-input-13-f258f5364710>, line 59)",
       "output_type": "pyerr",
       "traceback": [
        "\u001b[0;36m  File \u001b[0;32m\"<ipython-input-13-f258f5364710>\"\u001b[0;36m, line \u001b[0;32m59\u001b[0m\n\u001b[0;31m    \u001b[0m\n\u001b[0m    ^\u001b[0m\n\u001b[0;31mIndentationError\u001b[0m\u001b[0;31m:\u001b[0m expected an indented block\n"
       ]
      }
     ],
     "prompt_number": 13
    },
    {
     "cell_type": "code",
     "collapsed": false,
     "input": [],
     "language": "python",
     "metadata": {},
     "outputs": []
    }
   ],
   "metadata": {}
  }
 ]
}