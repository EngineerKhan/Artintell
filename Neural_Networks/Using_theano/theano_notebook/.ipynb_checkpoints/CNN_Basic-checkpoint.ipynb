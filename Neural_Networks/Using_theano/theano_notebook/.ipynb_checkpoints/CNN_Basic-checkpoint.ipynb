{
 "metadata": {
  "name": "",
  "signature": "sha256:c46b0794dbbe00aeb03a40bfc1bca90ab1a9a1402cdffc0f1b7f68235042f9ff"
 },
 "nbformat": 3,
 "nbformat_minor": 0,
 "worksheets": []
}