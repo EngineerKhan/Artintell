{
 "cells": [
  {
   "cell_type": "code",
   "execution_count": 2,
   "metadata": {},
   "outputs": [],
   "source": [
    "from sklearn.naive_bayes import GaussianNB\n",
    "from sklearn.metrics import accuracy_score\n",
    "import numpy as np\n",
    "from collections import Counter\n",
    "import os"
   ]
  },
  {
   "cell_type": "code",
   "execution_count": 3,
   "metadata": {},
   "outputs": [],
   "source": [
    "train_dir = \"./train-mails\"\n",
    "test_dir = \"./test-mails\""
   ]
  },
  {
   "cell_type": "code",
   "execution_count": 6,
   "metadata": {},
   "outputs": [],
   "source": [
    "def dic_process(root_dir):\n",
    "    all_words = []\n",
    "    emails = [os.path.join(root_dir, f) for f in os.listdir(root_dir)]\n",
    "    for email in emails:\n",
    "        with open(email) as m:\n",
    "            for line in m:\n",
    "                words = line.split()\n",
    "                all_words += words\n",
    "    dictionary = Counter(all_words)\n",
    "    list_to_remove = list(dictionary.keys())\n",
    "    for item in list_to_remove:\n",
    "        if item.isalpha() == False:\n",
    "            del dictionary[item]\n",
    "        elif len(item) == 1:\n",
    "            del dictionary[item]\n",
    "    dictionary = dictionary.most_common()"
   ]
  },
  {
   "cell_type": "code",
   "execution_count": 8,
   "metadata": {},
   "outputs": [],
   "source": [
    "def ext_features(mail_dir):\n",
    "    files = [os.path.join(mail_dir, fi) for fi in os.listdir(mail_dir)]\n",
    "    feature_matrix = np.zero(len(files))\n",
    "    train_labels = np.zeros(len(files))\n",
    "    count = 0\n",
    "    docId = 0\n",
    "    for fil in files:\n",
    "        with open(fil) as fi:\n",
    "            for i, line in enumerate(fi):\n",
    "                if i ==2:\n",
    "                    words = line.split()\n",
    "                    for word in words:\n",
    "                        wordId = 0 \n",
    "                        for i,d in enumerate(dictionary):\n",
    "                            if d[0] == word:\n",
    "                                wordId = 1\n",
    "                                feature_matrix[docId] = words.count(word)\n",
    "            train_labels[docId] = 0\n",
    "            filepathtokens = fil.split('/')\n",
    "            lasttoken = filepathtokens[len(filepathtokens) - 1]\n",
    "            if lastToken.startswith(\"spmsg\"):\n",
    "                train_label[docId] = 1\n",
    "                count = count +1\n",
    "            docId = docId +1\n",
    "    return feature_matrix, train_labels"
   ]
  },
  {
   "cell_type": "code",
   "execution_count": null,
   "metadata": {},
   "outputs": [],
   "source": [
    "dictionary = dic_process(train_dir)\n",
    "print (\"Reading and processing emails from file\")\n",
    "features_matrix = np.reshape(ext_features(train_dir),(1404, 1))\n",
    "labels = np.reshape(ext_features(train_dir),(1404,1))\n",
    "test_features_matrix = np.reshape(ext_features(test_dir),(520, 1))\n",
    "test_labels = np.reshape(ext_features(test_dir),(520,1))\n",
    "\n",
    "clf = GaussianNB()\n",
    "print (\"training model\")\n",
    "clf.fit(features_matrix, labels)\n",
    "predicted_labels = clf.predict(test_feature_matrix)\n",
    "print (accuracy_score(test_labels, predicted_labels))"
   ]
  }
 ],
 "metadata": {
  "kernelspec": {
   "display_name": "Python 2",
   "language": "python",
   "name": "python2"
  },
  "language_info": {
   "codemirror_mode": {
    "name": "ipython",
    "version": 2
   },
   "file_extension": ".py",
   "mimetype": "text/x-python",
   "name": "python",
   "nbconvert_exporter": "python",
   "pygments_lexer": "ipython2",
   "version": "2.7.14"
  }
 },
 "nbformat": 4,
 "nbformat_minor": 2
}
