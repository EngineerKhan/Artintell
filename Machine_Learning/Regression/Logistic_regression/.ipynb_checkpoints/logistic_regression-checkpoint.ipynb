{
 "metadata": {
  "name": "",
  "signature": "sha256:756df662519eba4e69611352e2a79ffc95985397471e9338a52c84923fc04c3b"
 },
 "nbformat": 3,
 "nbformat_minor": 0,
 "worksheets": [
  {
   "cells": [
    {
     "cell_type": "code",
     "collapsed": false,
     "input": [
      "import numpy as np\n",
      "import pandas as pan\n",
      "import matplotlib.pyplot as plt\n",
      "%matplotlib inline\n",
      "import os"
     ],
     "language": "python",
     "metadata": {},
     "outputs": [],
     "prompt_number": 3
    },
    {
     "cell_type": "code",
     "collapsed": false,
     "input": [
      "data = pan.read_csv(\"ex2data1.txt\", header=None, names = ['Exam 1', 'Exam 2', 'Admitted'])\n",
      "data.head()"
     ],
     "language": "python",
     "metadata": {},
     "outputs": [
      {
       "html": [
        "<div style=\"max-width:1500px;overflow:auto;\">\n",
        "<style>\n",
        "    .dataframe thead tr:only-child th {\n",
        "        text-align: right;\n",
        "    }\n",
        "\n",
        "    .dataframe thead th {\n",
        "        text-align: left;\n",
        "    }\n",
        "\n",
        "    .dataframe tbody tr th {\n",
        "        vertical-align: top;\n",
        "    }\n",
        "</style>\n",
        "<table border=\"1\" class=\"dataframe\">\n",
        "  <thead>\n",
        "    <tr style=\"text-align: right;\">\n",
        "      <th></th>\n",
        "      <th>Exam 1</th>\n",
        "      <th>Exam 2</th>\n",
        "      <th>Admitted</th>\n",
        "    </tr>\n",
        "  </thead>\n",
        "  <tbody>\n",
        "    <tr>\n",
        "      <th>0</th>\n",
        "      <td>34.623660</td>\n",
        "      <td>78.024693</td>\n",
        "      <td>0</td>\n",
        "    </tr>\n",
        "    <tr>\n",
        "      <th>1</th>\n",
        "      <td>30.286711</td>\n",
        "      <td>43.894998</td>\n",
        "      <td>0</td>\n",
        "    </tr>\n",
        "    <tr>\n",
        "      <th>2</th>\n",
        "      <td>35.847409</td>\n",
        "      <td>72.902198</td>\n",
        "      <td>0</td>\n",
        "    </tr>\n",
        "    <tr>\n",
        "      <th>3</th>\n",
        "      <td>60.182599</td>\n",
        "      <td>86.308552</td>\n",
        "      <td>1</td>\n",
        "    </tr>\n",
        "    <tr>\n",
        "      <th>4</th>\n",
        "      <td>79.032736</td>\n",
        "      <td>75.344376</td>\n",
        "      <td>1</td>\n",
        "    </tr>\n",
        "  </tbody>\n",
        "</table>\n",
        "</div>"
       ],
       "metadata": {},
       "output_type": "pyout",
       "prompt_number": 7,
       "text": [
        "      Exam 1     Exam 2  Admitted\n",
        "0  34.623660  78.024693         0\n",
        "1  30.286711  43.894998         0\n",
        "2  35.847409  72.902198         0\n",
        "3  60.182599  86.308552         1\n",
        "4  79.032736  75.344376         1"
       ]
      }
     ],
     "prompt_number": 7
    },
    {
     "cell_type": "code",
     "collapsed": false,
     "input": [
      "positive = data[data['Admitted'].isin([1])]\n",
      "negative = data[data['Admitted'].isin([0])]"
     ],
     "language": "python",
     "metadata": {},
     "outputs": [],
     "prompt_number": 8
    },
    {
     "cell_type": "code",
     "collapsed": false,
     "input": [
      "fig, ax = plt.subplots(figsize=(12, 8))\n",
      "ax.scatter(positive['Exam 1'], positive['Exam 2'], s = 50, c = 'b', marker='o', label='Admitted')\n",
      "ax.scatter(negative['Exam 1'], negative['Exam 2'], s = 50, c = 'r', marker='x', label='Not Admitted')\n",
      "ax.legend()\n",
      "ax.set_xlabel('Exam 1 Score')\n",
      "ax.set_ylabel('Exam 2 score')\n"
     ],
     "language": "python",
     "metadata": {},
     "outputs": [
      {
       "metadata": {},
       "output_type": "pyout",
       "prompt_number": 9,
       "text": [
        "<matplotlib.text.Text at 0x7f023fa33950>"
       ]
      },
      {
       "metadata": {},
       "output_type": "display_data",
       "png": "[encoded data removed]",
       "text": [
        "<matplotlib.figure.Figure at 0x7f023fc1ca10>"
       ]
      }
     ],
     "prompt_number": 9
    },
    {
     "cell_type": "code",
     "collapsed": false,
     "input": [
      "def sigmoid(z):\n",
      "    return 1 / (1 + np.exp(-z))"
     ],
     "language": "python",
     "metadata": {},
     "outputs": [],
     "prompt_number": 10
    },
    {
     "cell_type": "code",
     "collapsed": false,
     "input": [
      "nums = np.arange(-10, 10, step=1)\n",
      "print nums\n",
      "fig, ax = plt.subplots(figsize = (12, 8))\n",
      "ax.plot(nums, sigmoid(nums), 'r')"
     ],
     "language": "python",
     "metadata": {},
     "outputs": [
      {
       "output_type": "stream",
       "stream": "stdout",
       "text": [
        "[-10  -9  -8  -7  -6  -5  -4  -3  -2  -1   0   1   2   3   4   5   6   7\n",
        "   8   9]\n"
       ]
      },
      {
       "metadata": {},
       "output_type": "pyout",
       "prompt_number": 12,
       "text": [
        "[<matplotlib.lines.Line2D at 0x7f023fa8ae50>]"
       ]
      },
      {
       "metadata": {},
       "output_type": "display_data",
       "png": "[encoded data removed]",
       "text": [
        "<matplotlib.figure.Figure at 0x7f023f8eab10>"
       ]
      }
     ],
     "prompt_number": 12
    },
    {
     "cell_type": "code",
     "collapsed": false,
     "input": [
      "def cost(theta, x, y):\n",
      "    theta = np.matrix(theta)\n",
      "    x = np.matrix(x)\n",
      "    y = np.matrix(y)\n",
      "    first = np.multiply(-y, np.log(sigmoid(x * theta.T)))\n",
      "    second = np.multiply((1-y), np.log(1 - sigmoid(x * theta.T)))\n",
      "    return np.sum(first-second) / (len(x))"
     ],
     "language": "python",
     "metadata": {},
     "outputs": [],
     "prompt_number": 25
    },
    {
     "cell_type": "code",
     "collapsed": false,
     "input": [
      "data.insert(0, 'Ones', 1)"
     ],
     "language": "python",
     "metadata": {},
     "outputs": [],
     "prompt_number": 14
    },
    {
     "cell_type": "code",
     "collapsed": false,
     "input": [
      "cols = data.shape[1]\n",
      "x = data.iloc[:,0:cols-1]\n",
      "y = data.iloc[:, cols-1:cols]"
     ],
     "language": "python",
     "metadata": {},
     "outputs": [],
     "prompt_number": 17
    },
    {
     "cell_type": "code",
     "collapsed": false,
     "input": [
      "x = np.array(x.values)\n",
      "y = np.array(y.values)\n",
      "theta = np.zeros(3)"
     ],
     "language": "python",
     "metadata": {},
     "outputs": [],
     "prompt_number": 18
    },
    {
     "cell_type": "code",
     "collapsed": false,
     "input": [
      "x.shape"
     ],
     "language": "python",
     "metadata": {},
     "outputs": [
      {
       "metadata": {},
       "output_type": "pyout",
       "prompt_number": 19,
       "text": [
        "(100, 3)"
       ]
      }
     ],
     "prompt_number": 19
    },
    {
     "cell_type": "code",
     "collapsed": false,
     "input": [
      "y.shape"
     ],
     "language": "python",
     "metadata": {},
     "outputs": [
      {
       "metadata": {},
       "output_type": "pyout",
       "prompt_number": 20,
       "text": [
        "(100, 1)"
       ]
      }
     ],
     "prompt_number": 20
    },
    {
     "cell_type": "code",
     "collapsed": false,
     "input": [
      "theta.shape"
     ],
     "language": "python",
     "metadata": {},
     "outputs": [
      {
       "metadata": {},
       "output_type": "pyout",
       "prompt_number": 21,
       "text": [
        "(3,)"
       ]
      }
     ],
     "prompt_number": 21
    },
    {
     "cell_type": "code",
     "collapsed": false,
     "input": [
      "y"
     ],
     "language": "python",
     "metadata": {},
     "outputs": [
      {
       "metadata": {},
       "output_type": "pyout",
       "prompt_number": 23,
       "text": [
        "array([[0],\n",
        "       [0],\n",
        "       [0],\n",
        "       [1],\n",
        "       [1],\n",
        "       [0],\n",
        "       [1],\n",
        "       [1],\n",
        "       [1],\n",
        "       [1],\n",
        "       [0],\n",
        "       [0],\n",
        "       [1],\n",
        "       [1],\n",
        "       [0],\n",
        "       [1],\n",
        "       [1],\n",
        "       [0],\n",
        "       [1],\n",
        "       [1],\n",
        "       [0],\n",
        "       [1],\n",
        "       [0],\n",
        "       [0],\n",
        "       [1],\n",
        "       [1],\n",
        "       [1],\n",
        "       [0],\n",
        "       [0],\n",
        "       [0],\n",
        "       [1],\n",
        "       [1],\n",
        "       [0],\n",
        "       [1],\n",
        "       [0],\n",
        "       [0],\n",
        "       [0],\n",
        "       [1],\n",
        "       [0],\n",
        "       [0],\n",
        "       [1],\n",
        "       [0],\n",
        "       [1],\n",
        "       [0],\n",
        "       [0],\n",
        "       [0],\n",
        "       [1],\n",
        "       [1],\n",
        "       [1],\n",
        "       [1],\n",
        "       [1],\n",
        "       [1],\n",
        "       [1],\n",
        "       [0],\n",
        "       [0],\n",
        "       [0],\n",
        "       [1],\n",
        "       [0],\n",
        "       [1],\n",
        "       [1],\n",
        "       [1],\n",
        "       [0],\n",
        "       [0],\n",
        "       [0],\n",
        "       [0],\n",
        "       [0],\n",
        "       [1],\n",
        "       [0],\n",
        "       [1],\n",
        "       [1],\n",
        "       [0],\n",
        "       [1],\n",
        "       [1],\n",
        "       [1],\n",
        "       [1],\n",
        "       [1],\n",
        "       [1],\n",
        "       [1],\n",
        "       [0],\n",
        "       [0],\n",
        "       [1],\n",
        "       [1],\n",
        "       [1],\n",
        "       [1],\n",
        "       [1],\n",
        "       [1],\n",
        "       [0],\n",
        "       [1],\n",
        "       [1],\n",
        "       [0],\n",
        "       [1],\n",
        "       [1],\n",
        "       [0],\n",
        "       [1],\n",
        "       [1],\n",
        "       [1],\n",
        "       [1],\n",
        "       [1],\n",
        "       [1],\n",
        "       [1]])"
       ]
      }
     ],
     "prompt_number": 23
    },
    {
     "cell_type": "code",
     "collapsed": false,
     "input": [
      "cost(theta, x, y)"
     ],
     "language": "python",
     "metadata": {},
     "outputs": [
      {
       "ename": "AttributeError",
       "evalue": "'module' object has no attribute 'muliiply'",
       "output_type": "pyerr",
       "traceback": [
        "\u001b[0;31m---------------------------------------------------------------------------\u001b[0m\n\u001b[0;31mAttributeError\u001b[0m                            Traceback (most recent call last)",
        "\u001b[0;32m<ipython-input-26-6fb6a46a7659>\u001b[0m in \u001b[0;36m<module>\u001b[0;34m()\u001b[0m\n\u001b[0;32m----> 1\u001b[0;31m \u001b[0mcost\u001b[0m\u001b[0;34m(\u001b[0m\u001b[0mtheta\u001b[0m\u001b[0;34m,\u001b[0m \u001b[0mx\u001b[0m\u001b[0;34m,\u001b[0m \u001b[0my\u001b[0m\u001b[0;34m)\u001b[0m\u001b[0;34m\u001b[0m\u001b[0m\n\u001b[0m",
        "\u001b[0;32m<ipython-input-25-15c8aa5bcafd>\u001b[0m in \u001b[0;36mcost\u001b[0;34m(theta, x, y)\u001b[0m\n\u001b[1;32m      3\u001b[0m     \u001b[0mx\u001b[0m \u001b[0;34m=\u001b[0m \u001b[0mnp\u001b[0m\u001b[0;34m.\u001b[0m\u001b[0mmatrix\u001b[0m\u001b[0;34m(\u001b[0m\u001b[0mx\u001b[0m\u001b[0;34m)\u001b[0m\u001b[0;34m\u001b[0m\u001b[0m\n\u001b[1;32m      4\u001b[0m     \u001b[0my\u001b[0m \u001b[0;34m=\u001b[0m \u001b[0mnp\u001b[0m\u001b[0;34m.\u001b[0m\u001b[0mmatrix\u001b[0m\u001b[0;34m(\u001b[0m\u001b[0my\u001b[0m\u001b[0;34m)\u001b[0m\u001b[0;34m\u001b[0m\u001b[0m\n\u001b[0;32m----> 5\u001b[0;31m     \u001b[0mfirst\u001b[0m \u001b[0;34m=\u001b[0m \u001b[0mnp\u001b[0m\u001b[0;34m.\u001b[0m\u001b[0mmuliiply\u001b[0m\u001b[0;34m(\u001b[0m\u001b[0;34m-\u001b[0m\u001b[0my\u001b[0m\u001b[0;34m,\u001b[0m \u001b[0mnp\u001b[0m\u001b[0;34m.\u001b[0m\u001b[0mlog\u001b[0m\u001b[0;34m(\u001b[0m\u001b[0msigmoid\u001b[0m\u001b[0;34m(\u001b[0m\u001b[0mx\u001b[0m \u001b[0;34m*\u001b[0m \u001b[0mtheta\u001b[0m\u001b[0;34m.\u001b[0m\u001b[0mT\u001b[0m\u001b[0;34m)\u001b[0m\u001b[0;34m)\u001b[0m\u001b[0;34m)\u001b[0m\u001b[0;34m\u001b[0m\u001b[0m\n\u001b[0m\u001b[1;32m      6\u001b[0m     \u001b[0msecond\u001b[0m \u001b[0;34m=\u001b[0m \u001b[0mnp\u001b[0m\u001b[0;34m.\u001b[0m\u001b[0mmultiply\u001b[0m\u001b[0;34m(\u001b[0m\u001b[0;34m(\u001b[0m\u001b[0;36m1\u001b[0m\u001b[0;34m-\u001b[0m\u001b[0my\u001b[0m\u001b[0;34m)\u001b[0m\u001b[0;34m,\u001b[0m \u001b[0mnp\u001b[0m\u001b[0;34m.\u001b[0m\u001b[0mlog\u001b[0m\u001b[0;34m(\u001b[0m\u001b[0;36m1\u001b[0m \u001b[0;34m-\u001b[0m \u001b[0msigmoid\u001b[0m\u001b[0;34m(\u001b[0m\u001b[0mx\u001b[0m \u001b[0;34m*\u001b[0m \u001b[0mtheta\u001b[0m\u001b[0;34m.\u001b[0m\u001b[0mT\u001b[0m\u001b[0;34m)\u001b[0m\u001b[0;34m)\u001b[0m\u001b[0;34m)\u001b[0m\u001b[0;34m\u001b[0m\u001b[0m\n\u001b[1;32m      7\u001b[0m     \u001b[0;32mreturn\u001b[0m \u001b[0mnp\u001b[0m\u001b[0;34m.\u001b[0m\u001b[0msum\u001b[0m\u001b[0;34m(\u001b[0m\u001b[0mfirst\u001b[0m\u001b[0;34m-\u001b[0m\u001b[0msecond\u001b[0m\u001b[0;34m)\u001b[0m \u001b[0;34m/\u001b[0m \u001b[0;34m(\u001b[0m\u001b[0mlen\u001b[0m\u001b[0;34m(\u001b[0m\u001b[0mx\u001b[0m\u001b[0;34m)\u001b[0m\u001b[0;34m)\u001b[0m\u001b[0;34m\u001b[0m\u001b[0m\n",
        "\u001b[0;31mAttributeError\u001b[0m: 'module' object has no attribute 'muliiply'"
       ]
      }
     ],
     "prompt_number": 26
    },
    {
     "cell_type": "code",
     "collapsed": false,
     "input": [],
     "language": "python",
     "metadata": {},
     "outputs": []
    }
   ],
   "metadata": {}
  }
 ]
}