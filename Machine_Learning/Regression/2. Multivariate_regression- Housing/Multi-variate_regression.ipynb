{
 "metadata": {
  "name": "",
  "signature": "sha256:02c2f118606f6d13bf3ccbaf0d2091d18efce7533949f8a780fc495ba90fa673"
 },
 "nbformat": 3,
 "nbformat_minor": 0,
 "worksheets": [
  {
   "cells": [
    {
     "cell_type": "code",
     "collapsed": false,
     "input": [
      "import numpy as np\n",
      "import pandas as pan\n",
      "import matplotlib.pyplot as plt\n",
      "%matplotlib inline"
     ],
     "language": "python",
     "metadata": {},
     "outputs": [],
     "prompt_number": 31
    },
    {
     "cell_type": "code",
     "collapsed": false,
     "input": [
      "data = pan.read_csv(\"ex1data2.txt\", header =None, names = ['Sizes', 'Bedrooms','Price'])"
     ],
     "language": "python",
     "metadata": {},
     "outputs": [],
     "prompt_number": 16
    },
    {
     "cell_type": "code",
     "collapsed": false,
     "input": [
      "def computecost(x, y, theta):\n",
      "    inner = np.power(((x * theta.T) - y), 2)\n",
      "    return np.sum(inner) / (2 * len(x))"
     ],
     "language": "python",
     "metadata": {},
     "outputs": [],
     "prompt_number": 25
    },
    {
     "cell_type": "code",
     "collapsed": false,
     "input": [
      "norm_data = (data - data.mean()) / data.std()"
     ],
     "language": "python",
     "metadata": {},
     "outputs": [],
     "prompt_number": 17
    },
    {
     "cell_type": "code",
     "collapsed": false,
     "input": [
      "norm_data.head()"
     ],
     "language": "python",
     "metadata": {},
     "outputs": [
      {
       "html": [
        "<div style=\"max-width:1500px;overflow:auto;\">\n",
        "<style>\n",
        "    .dataframe thead tr:only-child th {\n",
        "        text-align: right;\n",
        "    }\n",
        "\n",
        "    .dataframe thead th {\n",
        "        text-align: left;\n",
        "    }\n",
        "\n",
        "    .dataframe tbody tr th {\n",
        "        vertical-align: top;\n",
        "    }\n",
        "</style>\n",
        "<table border=\"1\" class=\"dataframe\">\n",
        "  <thead>\n",
        "    <tr style=\"text-align: right;\">\n",
        "      <th></th>\n",
        "      <th>Sizes</th>\n",
        "      <th>Bedrooms</th>\n",
        "      <th>Price</th>\n",
        "    </tr>\n",
        "  </thead>\n",
        "  <tbody>\n",
        "    <tr>\n",
        "      <th>0</th>\n",
        "      <td>0.130010</td>\n",
        "      <td>-0.223675</td>\n",
        "      <td>0.475747</td>\n",
        "    </tr>\n",
        "    <tr>\n",
        "      <th>1</th>\n",
        "      <td>-0.504190</td>\n",
        "      <td>-0.223675</td>\n",
        "      <td>-0.084074</td>\n",
        "    </tr>\n",
        "    <tr>\n",
        "      <th>2</th>\n",
        "      <td>0.502476</td>\n",
        "      <td>-0.223675</td>\n",
        "      <td>0.228626</td>\n",
        "    </tr>\n",
        "    <tr>\n",
        "      <th>3</th>\n",
        "      <td>-0.735723</td>\n",
        "      <td>-1.537767</td>\n",
        "      <td>-0.867025</td>\n",
        "    </tr>\n",
        "    <tr>\n",
        "      <th>4</th>\n",
        "      <td>1.257476</td>\n",
        "      <td>1.090417</td>\n",
        "      <td>1.595389</td>\n",
        "    </tr>\n",
        "  </tbody>\n",
        "</table>\n",
        "</div>"
       ],
       "metadata": {},
       "output_type": "pyout",
       "prompt_number": 18,
       "text": [
        "      Sizes  Bedrooms     Price\n",
        "0  0.130010 -0.223675  0.475747\n",
        "1 -0.504190 -0.223675 -0.084074\n",
        "2  0.502476 -0.223675  0.228626\n",
        "3 -0.735723 -1.537767 -0.867025\n",
        "4  1.257476  1.090417  1.595389"
       ]
      }
     ],
     "prompt_number": 18
    },
    {
     "cell_type": "code",
     "collapsed": false,
     "input": [
      "def gradientdescent(x, y , theta, alpha, iters):\n",
      "    temp = np.matrix(np.zeros(theta.shape))\n",
      "    parameters = int(theta.ravel().shape[1])\n",
      "    cost = np.zeros(iters)\n",
      "\n",
      "    for i in range(iters):\n",
      "        error = (x * theta.T) - y\n",
      "        for j in range(parameters):\n",
      "            term = np.multiply(error, x[:, j])\n",
      "            temp[0, j] = theta[0,j] - ((alpha / len(x)) * np.sum(term))\n",
      "        theta = temp\n",
      "        cost[i] = computecost(x, y , theta)\n",
      "    return theta, cost"
     ],
     "language": "python",
     "metadata": {},
     "outputs": [],
     "prompt_number": 23
    },
    {
     "cell_type": "code",
     "collapsed": false,
     "input": [
      "alpha = 0.01\n",
      "iters = 1000\n",
      "norm_data.insert(0, 'Ones', 1)\n",
      "cols = norm_data.shape[1]\n",
      "x2 = norm_data.iloc[:, 0: cols-1]\n",
      "y2 = norm_data.iloc[:, cols-1: cols]\n",
      "x2 = np.matrix(x2.values)\n",
      "y2 = np.matrix(y2.values)\n",
      "theta2 = np.matrix(np.array([0,0,0]))"
     ],
     "language": "python",
     "metadata": {},
     "outputs": [],
     "prompt_number": 20
    },
    {
     "cell_type": "code",
     "collapsed": false,
     "input": [
      "g2, cost2 = gradientdescent(x2, y2, theta2, alpha, iters)"
     ],
     "language": "python",
     "metadata": {},
     "outputs": [],
     "prompt_number": 26
    },
    {
     "cell_type": "code",
     "collapsed": false,
     "input": [
      "g2"
     ],
     "language": "python",
     "metadata": {},
     "outputs": [
      {
       "metadata": {},
       "output_type": "pyout",
       "prompt_number": 27,
       "text": [
        "matrix([[ -1.04077503e-16,   8.78503652e-01,  -4.69166570e-02]])"
       ]
      }
     ],
     "prompt_number": 27
    },
    {
     "cell_type": "code",
     "collapsed": false,
     "input": [
      "computecost(x2, y2, g2)"
     ],
     "language": "python",
     "metadata": {},
     "outputs": [
      {
       "metadata": {},
       "output_type": "pyout",
       "prompt_number": 29,
       "text": [
        "0.13070336960771892"
       ]
      }
     ],
     "prompt_number": 29
    },
    {
     "cell_type": "code",
     "collapsed": false,
     "input": [
      "fig, ax = plt.subplots(figsize = (12, 8))\n",
      "ax.plot(np.arange(iters), cost2, 'r')\n",
      "ax.set_xlabel('Iterations')\n",
      "ax.set_ylabel('cost')\n",
      "ax.set_title('Error vs. Training Example')"
     ],
     "language": "python",
     "metadata": {},
     "outputs": [
      {
       "metadata": {},
       "output_type": "pyout",
       "prompt_number": 33,
       "text": [
        "<matplotlib.text.Text at 0x7efff2b0ed10>"
       ]
      },
      {
       "metadata": {},
       "output_type": "display_data",
       "png": "[encoded data removed]",
       "text": [
        "<matplotlib.figure.Figure at 0x7efff2b2fc10>"
       ]
      }
     ],
     "prompt_number": 33
    },
    {
     "cell_type": "code",
     "collapsed": false,
     "input": [
      "from sklearn import linear_model"
     ],
     "language": "python",
     "metadata": {},
     "outputs": [],
     "prompt_number": 34
    },
    {
     "cell_type": "code",
     "collapsed": false,
     "input": [
      "model = linear_model.LinearRegression()\n",
      "model.fit(x2, y2)"
     ],
     "language": "python",
     "metadata": {},
     "outputs": [
      {
       "metadata": {},
       "output_type": "pyout",
       "prompt_number": 36,
       "text": [
        "LinearRegression(copy_X=True, fit_intercept=True, n_jobs=1, normalize=False)"
       ]
      }
     ],
     "prompt_number": 36
    },
    {
     "cell_type": "code",
     "collapsed": false,
     "input": [
      "x = np.array(X)"
     ],
     "language": "python",
     "metadata": {},
     "outputs": []
    }
   ],
   "metadata": {}
  }
 ]
}