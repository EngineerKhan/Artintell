{
 "metadata": {
  "name": "",
  "signature": "sha256:7a0943243ca61745b5ba2e5ea41330231c8c2f45ef6439805a28169de2e95267"
 },
 "nbformat": 3,
 "nbformat_minor": 0,
 "worksheets": [
  {
   "cells": [
    {
     "cell_type": "markdown",
     "metadata": {},
     "source": [
      "# Why Python"
     ]
    },
    {
     "cell_type": "markdown",
     "metadata": {},
     "source": [
      "> One of the friendly things about Python is that it allows you to type directly into the interactive interpreter \u2014\n",
      "the program that will be running your Python programs. You can access the Python interpreter using a simple\n",
      "graphical interface called the Interactive DeveLopment Environment (IDLE). "
     ]
    },
    {
     "cell_type": "code",
     "collapsed": false,
     "input": [
      "first_word = \"Hello\"\n",
      "Second_word = \"World\"\n",
      "said_sentence = first_word + Second_word\n",
      "print said_sentence"
     ],
     "language": "python",
     "metadata": {},
     "outputs": [
      {
       "output_type": "stream",
       "stream": "stdout",
       "text": [
        "HelloWorld\n"
       ]
      }
     ],
     "prompt_number": 3
    },
    {
     "cell_type": "code",
     "collapsed": false,
     "input": [
      "said_sentence = first_word + ' ' + Second_word\n",
      "print said_sentence"
     ],
     "language": "python",
     "metadata": {},
     "outputs": [
      {
       "output_type": "stream",
       "stream": "stdout",
       "text": [
        "Hello World\n"
       ]
      }
     ],
     "prompt_number": 4
    },
    {
     "cell_type": "markdown",
     "metadata": {},
     "source": [
      "#NLTK\n",
      "        "
     ]
    },
    {
     "cell_type": "markdown",
     "metadata": {},
     "source": [
      "* Getting started with NLTK Toolkit (Natural Language Processing Toolkit)"
     ]
    },
    {
     "cell_type": "markdown",
     "metadata": {},
     "source": [
      "###Installing"
     ]
    },
    {
     "cell_type": "markdown",
     "metadata": {},
     "source": [
      "```\n",
      "pip install ntlk\n",
      "```"
     ]
    },
    {
     "cell_type": "markdown",
     "metadata": {},
     "source": [
      "####Lets Start with NLTK"
     ]
    },
    {
     "cell_type": "code",
     "collapsed": false,
     "input": [
      "import nltk"
     ],
     "language": "python",
     "metadata": {},
     "outputs": [],
     "prompt_number": 2
    },
    {
     "cell_type": "markdown",
     "metadata": {},
     "source": [
      "nltk has pre defined corpus(text datasets) for studies and research purpose, let us use this for this program."
     ]
    },
    {
     "cell_type": "code",
     "collapsed": false,
     "input": [
      "nltk.download()"
     ],
     "language": "python",
     "metadata": {},
     "outputs": [
      {
       "output_type": "stream",
       "stream": "stdout",
       "text": [
        "showing info https://raw.githubusercontent.com/nltk/nltk_data/gh-pages/index.xml\n"
       ]
      },
      {
       "metadata": {},
       "output_type": "pyout",
       "prompt_number": 7,
       "text": [
        "True"
       ]
      }
     ],
     "prompt_number": 7
    },
    {
     "cell_type": "markdown",
     "metadata": {},
     "source": [
      " The Collections tab on the downloader shows how the packages are grouped into sets, and you should select the line labeled book to obtain all data\n",
      "required for the examples and exercises in this book. It consists of about \n",
      "30 compressed files requiring about 100Mb disk space. The full collection\n",
      "of data (i.e., all in the downloader) is Once the data is downloaded to\n",
      "your machine, you can load some of it using the Python interpreter. The\n",
      "first steps to type a special command at the Python prompt which tells \n",
      "the interpreter to load some texts for us to explore:\n",
      "This says \"from NLTK's  \u0084\u0091\u0091\u008d  module, load all items.\" The  \u0084\u0091\u0091\u008d  module \n",
      "contains all the data you will need as you read this chapter. After\n",
      "printing a welcome message, it loads the text of several\n",
      "books (this will take a few seconds). Here's the command again, together \n",
      "with the output that you will see."
     ]
    },
    {
     "cell_type": "code",
     "collapsed": false,
     "input": [
      "from nltk.book import *"
     ],
     "language": "python",
     "metadata": {},
     "outputs": [
      {
       "output_type": "stream",
       "stream": "stdout",
       "text": [
        "*** Introductory Examples for the NLTK Book ***\n",
        "Loading text1, ..., text9 and sent1, ..., sent9\n",
        "Type the name of the text or sentence to view it.\n",
        "Type: 'texts()' or 'sents()' to list the materials.\n",
        "text1:"
       ]
      },
      {
       "output_type": "stream",
       "stream": "stdout",
       "text": [
        " Moby Dick by Herman Melville 1851\n",
        "text2:"
       ]
      },
      {
       "output_type": "stream",
       "stream": "stdout",
       "text": [
        " Sense and Sensibility by Jane Austen 1811\n",
        "text3:"
       ]
      },
      {
       "output_type": "stream",
       "stream": "stdout",
       "text": [
        " The Book of Genesis\n",
        "text4:"
       ]
      },
      {
       "output_type": "stream",
       "stream": "stdout",
       "text": [
        " Inaugural Address Corpus\n",
        "text5:"
       ]
      },
      {
       "output_type": "stream",
       "stream": "stdout",
       "text": [
        " Chat Corpus\n",
        "text6:"
       ]
      },
      {
       "output_type": "stream",
       "stream": "stdout",
       "text": [
        " Monty Python and the Holy Grail\n",
        "text7:"
       ]
      },
      {
       "output_type": "stream",
       "stream": "stdout",
       "text": [
        " Wall Street Journal\n",
        "text8: Personals Corpus\n",
        "text9:"
       ]
      },
      {
       "output_type": "stream",
       "stream": "stdout",
       "text": [
        " The Man Who Was Thursday by G . K . Chesterton 1908\n"
       ]
      }
     ],
     "prompt_number": 3
    },
    {
     "cell_type": "code",
     "collapsed": false,
     "input": [
      "text1"
     ],
     "language": "python",
     "metadata": {},
     "outputs": [
      {
       "metadata": {},
       "output_type": "pyout",
       "prompt_number": 4,
       "text": [
        "<Text: Moby Dick by Herman Melville 1851>"
       ]
      }
     ],
     "prompt_number": 4
    },
    {
     "cell_type": "markdown",
     "metadata": {},
     "source": [
      "###Searching Text"
     ]
    },
    {
     "cell_type": "code",
     "collapsed": false,
     "input": [
      "text1.concordance(\"Beautiful\")"
     ],
     "language": "python",
     "metadata": {},
     "outputs": [
      {
       "output_type": "stream",
       "stream": "stdout",
       "text": [
        "Displaying 8 of 8 matches:\n",
        " And in August , high in air , the beautiful and bountiful horse - chestnuts , \n",
        "kicked by a great man , and with a beautiful ivory leg , Stubb . It ' s an hono\n",
        " strange , half - seen , gliding , beautiful thing that eludes him ; every diml\n",
        "ut us where we are . What a really beautiful and chaste - looking mouth ! from \n",
        "begins to concrete ; sending forth beautiful crystalline shoots , as when the f\n",
        " it ; and in everything imposingly beautiful , strength has much to do with the\n",
        "ut too true to his word . It was a beautiful , bounteous , blue day ; the spang\n",
        "is a most refreshing , convivial , beautiful object to behold . As its name imp\n"
       ]
      }
     ],
     "prompt_number": 5
    },
    {
     "cell_type": "markdown",
     "metadata": {},
     "source": [
      "####Finding Common contexts"
     ]
    },
    {
     "cell_type": "code",
     "collapsed": false,
     "input": [
      "text2.common_contexts(['monstrous','very'])"
     ],
     "language": "python",
     "metadata": {},
     "outputs": [
      {
       "output_type": "stream",
       "stream": "stdout",
       "text": [
        "a_pretty is_pretty a_lucky am_glad be_glad\n"
       ]
      }
     ],
     "prompt_number": 7
    },
    {
     "cell_type": "markdown",
     "metadata": {},
     "source": [
      "####Finding Position of the words"
     ]
    },
    {
     "cell_type": "code",
     "collapsed": false,
     "input": [
      "text4.dispersion_plot([\"citizen\",\"democracy\",\"freedom\"])"
     ],
     "language": "python",
     "metadata": {},
     "outputs": [],
     "prompt_number": 8
    },
    {
     "cell_type": "markdown",
     "metadata": {},
     "source": [
      "###Counting Vocabulary"
     ]
    },
    {
     "cell_type": "code",
     "collapsed": false,
     "input": [
      "len(text2)"
     ],
     "language": "python",
     "metadata": {},
     "outputs": [
      {
       "metadata": {},
       "output_type": "pyout",
       "prompt_number": 11,
       "text": [
        "141576"
       ]
      }
     ],
     "prompt_number": 11
    },
    {
     "cell_type": "code",
     "collapsed": false,
     "input": [],
     "language": "python",
     "metadata": {},
     "outputs": []
    }
   ],
   "metadata": {}
  }
 ]
}