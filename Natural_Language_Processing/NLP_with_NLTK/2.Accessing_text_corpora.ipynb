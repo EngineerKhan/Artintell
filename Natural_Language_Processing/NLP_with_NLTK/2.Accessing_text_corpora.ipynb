{
 "metadata": {
  "name": "",
  "signature": "sha256:22cfbebfc0ce152eb64c844cd61a29cafaef9b7cd94a46b9c9955458e90f4249"
 },
 "nbformat": 3,
 "nbformat_minor": 0,
 "worksheets": [
  {
   "cells": [
    {
     "cell_type": "markdown",
     "metadata": {},
     "source": [
      "#Accessing Text Corpora"
     ]
    },
    {
     "cell_type": "markdown",
     "metadata": {},
     "source": [
      "Lets see some useful Text Corpora for experiments"
     ]
    },
    {
     "cell_type": "code",
     "collapsed": false,
     "input": [
      "import nltk"
     ],
     "language": "python",
     "metadata": {},
     "outputs": [],
     "prompt_number": 1
    },
    {
     "cell_type": "code",
     "collapsed": false,
     "input": [
      "nltk.corpus.gutenberg.fileids()"
     ],
     "language": "python",
     "metadata": {},
     "outputs": [
      {
       "metadata": {},
       "output_type": "pyout",
       "prompt_number": 4,
       "text": [
        "[u'austen-emma.txt',\n",
        " u'austen-persuasion.txt',\n",
        " u'austen-sense.txt',\n",
        " u'bible-kjv.txt',\n",
        " u'blake-poems.txt',\n",
        " u'bryant-stories.txt',\n",
        " u'burgess-busterbrown.txt',\n",
        " u'carroll-alice.txt',\n",
        " u'chesterton-ball.txt',\n",
        " u'chesterton-brown.txt',\n",
        " u'chesterton-thursday.txt',\n",
        " u'edgeworth-parents.txt',\n",
        " u'melville-moby_dick.txt',\n",
        " u'milton-paradise.txt',\n",
        " u'shakespeare-caesar.txt',\n",
        " u'shakespeare-hamlet.txt',\n",
        " u'shakespeare-macbeth.txt',\n",
        " u'whitman-leaves.txt']"
       ]
      }
     ],
     "prompt_number": 4
    },
    {
     "cell_type": "code",
     "collapsed": false,
     "input": [
      "example = nltk.corpus.gutenberg.words('whitman-leaves.txt')\n",
      "len(example)\n",
      "from nltk.corpus import gutenberg"
     ],
     "language": "python",
     "metadata": {},
     "outputs": [],
     "prompt_number": 10
    },
    {
     "cell_type": "code",
     "collapsed": false,
     "input": [
      "for fileid in gutenberg.fileids():\n",
      "    num_chars = len(gutenberg.raw(fileid))\n",
      "    num_words = len(gutenberg.words(fileid))\n",
      "    num_sents = len(gutenberg.sents(fileid))\n",
      "    num_vocab = len(gutenberg.sents(fileid))\n",
      "    print (round(num_chars/num_words), round(num_words/num_sents), \n",
      "           round(num_words/num_vocab),fileid)\n",
      "    "
     ],
     "language": "python",
     "metadata": {},
     "outputs": [
      {
       "output_type": "stream",
       "stream": "stdout",
       "text": [
        "(4.0, 24.0, 24.0, u'austen-emma.txt')\n",
        "(4.0, 26.0, 26.0, u'austen-persuasion.txt')"
       ]
      },
      {
       "output_type": "stream",
       "stream": "stdout",
       "text": [
        "\n",
        "(4.0, 28.0, 28.0, u'austen-sense.txt')"
       ]
      },
      {
       "output_type": "stream",
       "stream": "stdout",
       "text": [
        "\n",
        "(4.0, 33.0, 33.0, u'bible-kjv.txt')"
       ]
      },
      {
       "output_type": "stream",
       "stream": "stdout",
       "text": [
        "\n",
        "(4.0, 19.0, 19.0, u'blake-poems.txt')"
       ]
      },
      {
       "output_type": "stream",
       "stream": "stdout",
       "text": [
        "\n",
        "(4.0, 19.0, 19.0, u'bryant-stories.txt')"
       ]
      },
      {
       "output_type": "stream",
       "stream": "stdout",
       "text": [
        "\n",
        "(4.0, 17.0, 17.0, u'burgess-busterbrown.txt')"
       ]
      },
      {
       "output_type": "stream",
       "stream": "stdout",
       "text": [
        "\n",
        "(4.0, 20.0, 20.0, u'carroll-alice.txt')"
       ]
      },
      {
       "output_type": "stream",
       "stream": "stdout",
       "text": [
        "\n",
        "(4.0, 20.0, 20.0, u'chesterton-ball.txt')"
       ]
      },
      {
       "output_type": "stream",
       "stream": "stdout",
       "text": [
        "\n",
        "(4.0, 22.0, 22.0, u'chesterton-brown.txt')"
       ]
      },
      {
       "output_type": "stream",
       "stream": "stdout",
       "text": [
        "\n",
        "(4.0, 18.0, 18.0, u'chesterton-thursday.txt')"
       ]
      },
      {
       "output_type": "stream",
       "stream": "stdout",
       "text": [
        "\n",
        "(4.0, 20.0, 20.0, u'edgeworth-parents.txt')"
       ]
      },
      {
       "output_type": "stream",
       "stream": "stdout",
       "text": [
        "\n",
        "(4.0, 25.0, 25.0, u'melville-moby_dick.txt')"
       ]
      },
      {
       "output_type": "stream",
       "stream": "stdout",
       "text": [
        "\n",
        "(4.0, 52.0, 52.0, u'milton-paradise.txt')"
       ]
      },
      {
       "output_type": "stream",
       "stream": "stdout",
       "text": [
        "\n",
        "(4.0, 11.0, 11.0, u'shakespeare-caesar.txt')"
       ]
      },
      {
       "output_type": "stream",
       "stream": "stdout",
       "text": [
        "\n",
        "(4.0, 12.0, 12.0, u'shakespeare-hamlet.txt')"
       ]
      },
      {
       "output_type": "stream",
       "stream": "stdout",
       "text": [
        "\n",
        "(4.0, 12.0, 12.0, u'shakespeare-macbeth.txt')"
       ]
      },
      {
       "output_type": "stream",
       "stream": "stdout",
       "text": [
        "\n",
        "(4.0, 36.0, 36.0, u'whitman-leaves.txt')"
       ]
      },
      {
       "output_type": "stream",
       "stream": "stdout",
       "text": [
        "\n"
       ]
      }
     ],
     "prompt_number": 13
    },
    {
     "cell_type": "code",
     "collapsed": false,
     "input": [],
     "language": "python",
     "metadata": {},
     "outputs": []
    }
   ],
   "metadata": {}
  }
 ]
}